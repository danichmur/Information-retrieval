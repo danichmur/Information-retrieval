{
 "cells": [
  {
   "cell_type": "markdown",
   "metadata": {},
   "source": [
    "### 0. Коллекция\n",
    "\n",
    "Для экспериментов Вам предоставляется коллекция документов с исходными кодами программ взятых из одной известной системы автоматического тестирования. \n",
    "Каждый документ коллекции представлен в виде txt файла, в неизвестной кодировке, с преобладанием латинских символов. Документы даны как есть, без специальной структуры. Ознакомьтесь, пожалуйста, с содержимым нескольких из них, чтобы понять природу их происхождения. Архив с документами можно не распаковывать, а читать напрямую из кода. \n",
    "\n",
    "Пример чтения архива на питоне:"
   ]
  },
  {
   "cell_type": "code",
   "execution_count": 4,
   "metadata": {},
   "outputs": [
    {
     "name": "stdout",
     "output_type": "stream",
     "text": [
      "5258\n",
      "b'#include <fstream>\\r\\nusing namespace std;\\r\\n\\r\\nvoid main(){\\r\\n\\tint count = 0;\\r\\n\\tfstream in(\"input.txt\");\\r\\n\\tofstream out(\"output.txt\");\\r\\n\\r\\n\\tin >> count;\\r\\n\\tint* arr = new int[count + 1];\\r\\n\\tint cur = 0;\\r\\n\\tfor (int i = 1; i <= count, in >> cur; i++){// i=1\\r\\n\\t\\tarr[i] = cur;\\r\\n\\t}\\r\\n\\r\\n\\tbool flag = true;\\r\\n\\tfor (int i = 1; 2*i <= count; i++){  \\r\\n\\t\\tif (2 * i + 1 <= count){\\r\\n\\t\\t\\tif (arr[i] > arr[2 * i + 1])\\r\\n\\t\\t\\t\\tflag = false;\\r\\n\\t\\t}\\r\\n\\t\\tif (arr[i] > arr[2 * i])\\r\\n\\t\\t\\tflag = false;\\r\\n\\t}\\r\\n\\r\\n\\tif (flag){\\r\\n\\t\\tout << \"Yes\";\\r\\n\\t}\\r\\n\\telse\\r\\n\\t\\tout << \"No\";\\r\\n\\tin.close();\\r\\n\\tout.close();\\r\\n}'\n"
     ]
    }
   ],
   "source": [
    "import tarfile\n",
    "\n",
    "def read_collection():\n",
    "    docs = {}\n",
    "    with tarfile.open('./collection.tar.bz2', 'r:bz2') as tf:\n",
    "            for ti in tf:\n",
    "                byte_content = tf.extractfile(ti).read()\n",
    "                docs[ti.name] = byte_content\n",
    "    return docs\n",
    "\n",
    "docs = read_collection()\n",
    "print(len(docs))\n",
    "print(docs['172672.txt'])"
   ]
  },
  {
   "cell_type": "markdown",
   "metadata": {},
   "source": [
    "### 1. Точные дубли\n",
    "Прочитайте документы и проведите простейшую нормализацию содержимого документов, которая не меняет его сути. Например, следует сделать как минимум: разбор кодировки, удаление BOM, замена табуляций и переводов строк на пробелы, удаление последовательностей пробельных символов. Но только пожалуйста никаких, прости господи, лемматизаций и стемминга.\n",
    "\n",
    "Рассчитайте свою любимую многобитную хеш-функцию для нормализованных документов и найдите точные дубли с помощью известной структуры данных.\n",
    "    \n",
    "Оцените какие группы дубликатов получилось найти: количество групп, минимальный, максимальный и средний размер.\n",
    "    \n",
    "Оставьте из каждой группы один документ для дальнейших заданий."
   ]
  },
  {
   "cell_type": "markdown",
   "metadata": {},
   "source": [
    " "
   ]
  },
  {
   "cell_type": "markdown",
   "metadata": {},
   "source": [
    "Ну и чего я тут сделал:\n",
    "\n",
    "1) расдекодил с помощью detect\n",
    "\n",
    "2) заменил '\\n', '\\r', '\\t' на пробельчики\n",
    "\n",
    "3) убрал {, }, так как в случаях одной строки их может не быть\n",
    "\n",
    "4) убрал мульти пробелы\n",
    "\n",
    "5) убрал пробелы до и после всех скобок, арифметических операций, стрелок, точки с запятой и тд, так как их можно ставить как хочешь "
   ]
  },
  {
   "cell_type": "code",
   "execution_count": 5,
   "metadata": {},
   "outputs": [],
   "source": [
    "import hashlib\n",
    "from itertools import groupby\n",
    "from chardet import detect\n",
    "import re\n",
    "\n",
    "def decode(b):\n",
    "    encoding = detect(b)['encoding']\n",
    "    return b.decode(encoding)\n",
    "\n",
    "\n",
    "def normalize(s1):\n",
    "    for c in ['\\n', '\\r', '\\t']:\n",
    "        s1 = s1.replace(c, ' ')\n",
    "    s1 = s1.replace('}', '').replace('{', '')\n",
    "    s1 = re.sub(' +', ' ', s1)\n",
    "    s1 = re.sub(r'([\\[\\(\\]\\)=\\*-\\:\\/<>;\\/])\\s', lambda x: x.group().strip(), s1)\n",
    "    s1 = re.sub(r'\\s([\\[\\(\\]\\)=\\*-\\:\\/<>;\\/])', lambda x: x.group().strip(), s1)\n",
    "    \n",
    "    return s1\n",
    "\n",
    "\n",
    "def bytes2hash(b):\n",
    "    norm_b = normalize(decode(b))\n",
    "    return hashlib.sha224(norm_b).hexdigest()\n",
    "\n",
    "\n",
    "def fully_duplicates(docs, normalize_fn):\n",
    "    flipped = {} \n",
    "\n",
    "    for k, v in docs.items():\n",
    "        norm_value = normalize_fn(decode(v))\n",
    "        if norm_value not in flipped: \n",
    "            flipped[norm_value] = [k] \n",
    "        else: \n",
    "            flipped[norm_value].append(k) \n",
    "\n",
    "    duplicates = []\n",
    "\n",
    "    for _, v in flipped.items():\n",
    "        if len(v) > 1:\n",
    "            duplicates.append(v)\n",
    "            \n",
    "    return duplicates\n",
    "\n",
    "\n",
    "def drop_duplicates(docs, duplicates):\n",
    "    cleared_docs = docs.copy()\n",
    "    for d in duplicates:\n",
    "        for name in d[1:]:\n",
    "            cleared_docs.pop(name)\n",
    "    return cleared_docs\n",
    "\n",
    "\n",
    "def duplicates2plot(duplicates):\n",
    "    import matplotlib.pyplot as plt\n",
    "    %matplotlib inline\n",
    "\n",
    "    lengths = [len(d) for d in duplicates]\n",
    "    plt.hist(lengths)\n",
    "    print(f'number of groups: {len(duplicates)}')\n",
    "    plt.ylabel('Count')\n",
    "    plt.xlabel('Group Size');"
   ]
  },
  {
   "cell_type": "markdown",
   "metadata": {},
   "source": [
    "Получилось 167 групп дубликатов, максимальный размер 9, минимальный - 2"
   ]
  },
  {
   "cell_type": "code",
   "execution_count": 6,
   "metadata": {},
   "outputs": [
    {
     "name": "stdout",
     "output_type": "stream",
     "text": [
      "number of groups: 167\n"
     ]
    },
    {
     "data": {
      "image/png": "[encoded data removed]",
      "text/plain": [
       "<Figure size 432x288 with 1 Axes>"
      ]
     },
     "metadata": {
      "needs_background": "light"
     },
     "output_type": "display_data"
    }
   ],
   "source": [
    "duplicates = fully_duplicates(docs, normalize)\n",
    "duplicates2plot(duplicates)"
   ]
  },
  {
   "cell_type": "markdown",
   "metadata": {},
   "source": [
    "### 2. Ground truth\n",
    "В файле ground_truth.tsv.bz2 содержится результат работы «тяжелого» алгоритма сравнения документов на дубли для всех пар документов. \n",
    "Каждая строка файла описывает список потенциальных дубликатов для одного из документов коллекции. Строка файла разбита на колонки символом табуляции. В первой колонке записано имя документа, для которого далее следует список дублей. Далее в каждой колонке записано имя файла и оценка задублированности через символ = (равно). Оценка находится в пределах от 0 до 1. Далее будем называть содержимое этого файла -  ground truth.\n",
    "\n",
    "Пример чтения архива на питоне:"
   ]
  },
  {
   "cell_type": "code",
   "execution_count": 7,
   "metadata": {},
   "outputs": [
    {
     "name": "stdout",
     "output_type": "stream",
     "text": [
      "Ground truth size 5258\n"
     ]
    }
   ],
   "source": [
    "import bz2\n",
    "import time\n",
    "\n",
    "\n",
    "def parse_single_result(note):\n",
    "    return note.split('=')\n",
    "    \n",
    "def parse_ground_truth_line(line):\n",
    "    items = line.decode().strip().split('\\t')\n",
    "    doc_id = items[0]\n",
    "    result = [parse_single_result(item) for item in items[1:]]\n",
    "    return doc_id, {key: float(value) for key, value in result}\n",
    "\n",
    "def read_ground_truth():\n",
    "    ground_truth = {}\n",
    "    bz_file = bz2.BZ2File('./ground_truth.tsv.bz2')\n",
    "    items = (parse_ground_truth_line(line) for line in bz_file.readlines())\n",
    "    return dict(items)\n",
    "\n",
    "ground_truth = read_ground_truth()      \n",
    "for doc_id in ground_truth:\n",
    "    for other_id in ground_truth[doc_id]:\n",
    "        assert ground_truth[other_id][doc_id] ==  ground_truth[doc_id][other_id]\n",
    "        \n",
    "print('Ground truth size', len(ground_truth))"
   ]
  },
  {
   "cell_type": "markdown",
   "metadata": {},
   "source": [
    "Для каждой пары документов, которые Вы посчитали дублем в пункте 1, убедитесь, что данная пара есть в ground truth и что значение равно единице (aka полные дубли).\n",
    "\n",
    "Так как точные дубли не представляют интереса для поиска неточных дублей исключите из ground truth пары, найденные в пункте 1."
   ]
  },
  {
   "cell_type": "markdown",
   "metadata": {},
   "source": [
    " "
   ]
  },
  {
   "cell_type": "markdown",
   "metadata": {},
   "source": [
    "Так, а вот тут формируются пары дубликатов, проверяется, что в ground_truth они единицы, и происходит удаление из ground_truth"
   ]
  },
  {
   "cell_type": "code",
   "execution_count": 8,
   "metadata": {},
   "outputs": [
    {
     "name": "stdout",
     "output_type": "stream",
     "text": [
      "Ground truth size 5041\n"
     ]
    }
   ],
   "source": [
    "def duplicates2pairs(duplicates):\n",
    "    full_duplicates = []\n",
    "    for d in duplicates:\n",
    "        for i in range(len(d)):\n",
    "            for j in range(len(d)):\n",
    "                if i != j:\n",
    "                    full_duplicates.append((d[i], d[j]))\n",
    "\n",
    "    return full_duplicates\n",
    "\n",
    "for k, v in duplicates2pairs(duplicates):\n",
    "    assert ground_truth[k][v] == 1.0\n",
    "    ground_truth[k].pop(v)\n",
    "    \n",
    "ground_truth = drop_duplicates(ground_truth, duplicates)\n",
    "cleared_docs = drop_duplicates(docs, duplicates)\n",
    "print('Ground truth size', len(ground_truth))"
   ]
  },
  {
   "cell_type": "markdown",
   "metadata": {},
   "source": [
    "### 3. MinHash\n",
    "Разбейте документ на слова с учетом специфики содержимого документов: разделения по пробелам может быть недостаточно. Также учтите, что пунктуационные \"слова\" не менее важны в этой задаче, чем буквенные. \n",
    "Рассчитайте MinHash описанный на лекции для всех документов. Разбейте документы по дублям из расчета, что дубли имеют одинаковый MinHash."
   ]
  },
  {
   "cell_type": "code",
   "execution_count": 9,
   "metadata": {},
   "outputs": [],
   "source": [
    "import re\n",
    "import random\n",
    "\n",
    "\n",
    "def str2hash(s):\n",
    "    return int(hashlib.sha1(s.encode()).hexdigest(), 16)\n",
    "\n",
    "\n",
    "def generate_ngrams(s, n=4):\n",
    "    tokens = [token for token in re.split('([\\[\\(\\]\\)\\=\\-\\:\\/\\<\\>\\;\\*])', s) if not (token == \"\" or token == \" \")]\n",
    "    ngrams = zip(*[tokens[i:] for i in range(n)])\n",
    "    return [str2hash(\" \".join(ngram)) for ngram in ngrams]\n",
    "\n",
    "\n",
    "def generate_hash_funcs(n=100):\n",
    "    return [universal_hashing() for _ in range(n)]\n",
    "\n",
    "\n",
    "def universal_hashing():\n",
    "    def rand_prime():\n",
    "        while True:\n",
    "            p = random.randrange(2 ** 32, 2 ** 34, 2)\n",
    "            if all(p % n != 0 for n in range(3, int((p ** 0.5) + 1), 2)):\n",
    "                return p\n",
    "    m = 2 ** 32 - 1\n",
    "    p = rand_prime()\n",
    "    a = random.randint(0, p)\n",
    "    if a % 2 == 0:\n",
    "        a += 1\n",
    "    b = random.randint(0, p)\n",
    "    def h(x):\n",
    "        return ((a * x + b) % p) % m\n",
    "    return h\n",
    "    \n",
    "\n",
    "def get_min_hashes(hash_funcs, ngrams):\n",
    "    return [min([h(e) for e in ngrams]) for h in hash_funcs]\n",
    "\n",
    "\n",
    "def bytes2min_hash(b, hash_funcs, normalize_fn):\n",
    "    ngrams = generate_ngrams(normalize_fn(decode(b)))\n",
    "    return get_min_hashes(hash_funcs, ngrams)\n",
    "\n",
    "\n",
    "def similarity(m1, m2):\n",
    "    n = len(m1)\n",
    "    return sum(int(m1[i] == m2[i]) for i in range(n)) / n"
   ]
  },
  {
   "cell_type": "code",
   "execution_count": 13,
   "metadata": {},
   "outputs": [],
   "source": [
    "fns = generate_hash_funcs()\n",
    "min_hashed_dict = {} \n",
    "doc_hash_dict = {}\n",
    "\n",
    "for k, v in cleared_docs.items():\n",
    "    h = tuple(bytes2min_hash(v, fns, normalize))\n",
    "    doc_hash_dict[k] = h\n",
    "    if h not in min_hashed_dict: \n",
    "        min_hashed_dict[h] = [k] \n",
    "    else: \n",
    "        min_hashed_dict[h].append(k)"
   ]
  },
  {
   "cell_type": "code",
   "execution_count": 14,
   "metadata": {},
   "outputs": [
    {
     "name": "stdout",
     "output_type": "stream",
     "text": [
      "number of groups: 10\n"
     ]
    },
    {
     "data": {
      "image/png": "[encoded data removed]",
      "text/plain": [
       "<Figure size 432x288 with 1 Axes>"
      ]
     },
     "metadata": {
      "needs_background": "light"
     },
     "output_type": "display_data"
    }
   ],
   "source": [
    "mh_duplicates = []\n",
    "\n",
    "for _, v in min_hashed_dict.items():\n",
    "    if len(v) > 1:\n",
    "        mh_duplicates.append(v)\n",
    "\n",
    "duplicates2plot(mh_duplicates)"
   ]
  },
  {
   "cell_type": "code",
   "execution_count": 15,
   "metadata": {},
   "outputs": [],
   "source": [
    "for k, v in duplicates2pairs(mh_duplicates):\n",
    "    assert ground_truth[k][v] == 1.0"
   ]
  },
  {
   "cell_type": "markdown",
   "metadata": {},
   "source": [
    "Реализуйте поиск ближайших документов для произвольного количества MinHash хеш-функций (k). Отсортируйте документы кандидаты по убыванию степени задублированности – доле совпавших хешей из k. Алгоритм поиска дублей для одного документа должен быть заметно быстрее, чем линейный проход по всем другим документам коллекции."
   ]
  },
  {
   "cell_type": "markdown",
   "metadata": {},
   "source": [
    "такс, lookup_hashes ищет ближайшие документы по хэшам"
   ]
  },
  {
   "cell_type": "code",
   "execution_count": 16,
   "metadata": {},
   "outputs": [],
   "source": [
    "import itertools\n",
    "import collections \n",
    "\n",
    "def lookup_hashes(hash_value_maps, name, h):\n",
    "    length = len(h)\n",
    "    similars = [list() for _ in range(length)]\n",
    "    for i, val in enumerate(h):\n",
    "        similars[i] = hash_value_maps[i][val] if val in hash_value_maps[i] else []\n",
    "    counter = collections.Counter(filter(lambda x: x != name, sum(similars, [])))\n",
    "    top_dict = {k:v / length for (k,v) in dict(counter).items()}\n",
    "    return top_dict"
   ]
  },
  {
   "cell_type": "markdown",
   "metadata": {},
   "source": [
    "Оцените качество подбора дубликатов при различных значениях k. Например, для k равных 1, 10, 50, 100. Для оценки качества воспользуйтесь списком ground truth. В качестве метрики качества предлагается использовать nDCG@10 где релевантностью выступает оценка задублированности из ground truth. Для кандидатов, которых нет в ground truth оценку задублированности стоит считать равной нулю. \n",
    "\n",
    "\n",
    "Пример рассчета ndcg10 на питоне."
   ]
  },
  {
   "cell_type": "code",
   "execution_count": 17,
   "metadata": {
    "scrolled": true
   },
   "outputs": [
    {
     "name": "stdout",
     "output_type": "stream",
     "text": [
      "Ndcg@10 demo\n",
      "  Average:\t 0.5\n",
      "  Median: \t 0.5\n",
      "  Std Dev:\t 0.5\n",
      "  Minimum:\t 0.0\n",
      "  Maximum:\t 1.0\n"
     ]
    }
   ],
   "source": [
    "import numpy as np\n",
    "np.random.seed(42)\n",
    "\n",
    "def dcg_score(relevs, p):\n",
    "    score = 0\n",
    "    for position, relev in enumerate(relevs[:p]):\n",
    "        score += (2.0 ** relev - 1) / np.log2(position + 2)\n",
    "    return score\n",
    "\n",
    "def idcg10_single_doc(ref_doc_id, ground_truth):\n",
    "    return dcg_score(sorted(ground_truth[ref_doc_id].values(), reverse=True), 10)\n",
    "\n",
    "def dcg10_single_doc(ref_doc_id, candidates_doc_ids, ground_truth):\n",
    "    assert len(set(candidates_doc_ids)) == len(candidates_doc_ids), \"All candidates must be different\"\n",
    "    return dcg_score([ground_truth[ref_doc_id].get(doc_id, 0.0) for doc_id in candidates_doc_ids], 10)\n",
    "\n",
    "def ndcg10_single_doc(ref_doc_id, candidates_doc_ids, ground_truth):\n",
    "    # Полученный вашим алгоритмом dcg10\n",
    "    dcg = dcg10_single_doc(ref_doc_id, candidates_doc_ids, ground_truth)\n",
    "    \n",
    "    # Идеальный dcg10 для этого документа\n",
    "    # чтобы ускорить, стоит предпросчитать ответы\n",
    "    idcg = idcg10_single_doc(ref_doc_id, ground_truth)\n",
    "    \n",
    "    return dcg / idcg if idcg > 1e-10 else 0.0\n",
    "\n",
    "def ndcg10_stats(title, doc_to_candidates, ground_truth):    \n",
    "    scores = []\n",
    "    for doc_id, candidates in list(doc_to_candidates.items())[:10]:\n",
    "        scores.append(ndcg10_single_doc(doc_id, candidates, ground_truth))\n",
    "    print(title)\n",
    "    print('  Average:\\t', np.mean(scores))\n",
    "    print('  Median: \\t', np.median(scores))\n",
    "    print('  Std Dev:\\t', np.std(scores))\n",
    "    print('  Minimum:\\t', np.min(scores))\n",
    "    print('  Maximum:\\t', np.max(scores))\n",
    "\n",
    "best_for_172672 = [key for key, value in sorted(ground_truth['172672.txt'].items(), key=lambda x: -x[1])]\n",
    "best_for_172672_shuffled = np.array(best_for_172672[:10])\n",
    "np.random.shuffle(best_for_172672_shuffled)\n",
    "assert ndcg10_single_doc('172672.txt', best_for_172672, ground_truth) == 1.0\n",
    "assert ndcg10_single_doc('172672.txt', best_for_172672[:10], ground_truth) == 1.0\n",
    "assert 0.0 < ndcg10_single_doc('172672.txt', best_for_172672_shuffled, ground_truth) < 1.0\n",
    "assert 0.0 < ndcg10_single_doc('172672.txt', best_for_172672[:9], ground_truth) < 1.0\n",
    "assert 0.0 < ndcg10_single_doc('172672.txt', best_for_172672[10:], ground_truth) < 1.0\n",
    "assert ndcg10_single_doc('172672.txt', [], ground_truth) == 0.0\n",
    "assert ndcg10_single_doc('172672.txt', ['unknown.txt'], ground_truth) == 0.0\n",
    "assert ndcg10_single_doc('172672.txt', np.random.choice(list(ground_truth), size=10, replace=False), ground_truth) == 0.0\n",
    "\n",
    "ndcg10_stats(\"Ndcg@10 demo\", {'172672.txt': best_for_172672, '124830.txt': []}, ground_truth);"
   ]
  },
  {
   "cell_type": "markdown",
   "metadata": {},
   "source": [
    "Вот тут вот строятся таблицы кандидатов, которые пойдут в ndcg10_stats"
   ]
  },
  {
   "cell_type": "code",
   "execution_count": 18,
   "metadata": {},
   "outputs": [],
   "source": [
    "def hash_value_maps(size, doc_hash_dict):\n",
    "    hash_value_maps = [dict() for _ in range(size)]\n",
    "    for k, v in doc_hash_dict.items():\n",
    "        for i, val in enumerate(v):\n",
    "            if val not in hash_value_maps[i]: \n",
    "                hash_value_maps[i][val] = [k]\n",
    "            else: \n",
    "                hash_value_maps[i][val].append(k)\n",
    "    return hash_value_maps\n",
    "\n",
    "\n",
    "def build_lookup_table(docs, func_count, normalize_fn):\n",
    "    hash_funcs = generate_hash_funcs(n=func_count)\n",
    "    doc_hash_dict = {}\n",
    "\n",
    "    for k, v in docs.items():\n",
    "        h = bytes2min_hash(v, hash_funcs, normalize)\n",
    "        doc_hash_dict[k] = h\n",
    "    \n",
    "    hash_values = hash_value_maps(func_count, doc_hash_dict)\n",
    "    lookup_table = {}\n",
    "    for k, h in doc_hash_dict.items():\n",
    "        sorted_ = sorted(lookup_hashes(hash_values, k, h).items(), key=lambda x: -x[1])\n",
    "        lookup_table[k] = [key for key, value in sorted_]\n",
    "    return lookup_table"
   ]
  },
  {
   "cell_type": "code",
   "execution_count": 19,
   "metadata": {},
   "outputs": [
    {
     "name": "stdout",
     "output_type": "stream",
     "text": [
      "Ndcg@10: 1\n",
      "  Average:\t 0.20660629114477205\n",
      "  Median: \t 0.10747867290287333\n",
      "  Std Dev:\t 0.2575947301376108\n",
      "  Minimum:\t 0.0\n",
      "  Maximum:\t 0.8209006922763384\n"
     ]
    }
   ],
   "source": [
    "table1 = build_lookup_table(cleared_docs, 1, normalize)\n",
    "ndcg10_stats(\"Ndcg@10: 1\", table1, ground_truth)"
   ]
  },
  {
   "cell_type": "code",
   "execution_count": 20,
   "metadata": {},
   "outputs": [
    {
     "name": "stdout",
     "output_type": "stream",
     "text": [
      "Ndcg@10: 10\n",
      "  Average:\t 0.3671224397540883\n",
      "  Median: \t 0.35425963835463115\n",
      "  Std Dev:\t 0.3333512651797516\n",
      "  Minimum:\t 0.0\n",
      "  Maximum:\t 0.8209006922763384\n"
     ]
    }
   ],
   "source": [
    "table10 = build_lookup_table(cleared_docs, 10, normalize)\n",
    "ndcg10_stats(\"Ndcg@10: 10\", table10, ground_truth)"
   ]
  },
  {
   "cell_type": "code",
   "execution_count": 21,
   "metadata": {},
   "outputs": [
    {
     "name": "stdout",
     "output_type": "stream",
     "text": [
      "Ndcg@10: 50\n",
      "  Average:\t 0.39882931893520657\n",
      "  Median: \t 0.4875266697173507\n",
      "  Std Dev:\t 0.3449335540520135\n",
      "  Minimum:\t 0.0\n",
      "  Maximum:\t 0.8209006922763384\n"
     ]
    }
   ],
   "source": [
    "table50 = build_lookup_table(cleared_docs, 50, normalize)\n",
    "ndcg10_stats(\"Ndcg@10: 50\", table50, ground_truth)"
   ]
  },
  {
   "cell_type": "code",
   "execution_count": 22,
   "metadata": {},
   "outputs": [
    {
     "name": "stdout",
     "output_type": "stream",
     "text": [
      "Ndcg@10: 100\n",
      "  Average:\t 0.4102924500224366\n",
      "  Median: \t 0.4573936423121451\n",
      "  Std Dev:\t 0.3579960094346271\n",
      "  Minimum:\t 0.0\n",
      "  Maximum:\t 0.8332463415155831\n"
     ]
    }
   ],
   "source": [
    "table100 = build_lookup_table(cleared_docs, 100, normalize)\n",
    "ndcg10_stats(\"Ndcg@10: 100\", table100, ground_truth)"
   ]
  },
  {
   "cell_type": "markdown",
   "metadata": {},
   "source": [
    "## Дополнительно"
   ]
  },
  {
   "cell_type": "markdown",
   "metadata": {},
   "source": [
    "### 4. SimHash (+1 балл)\n",
    "По аналогии с пунктом 3, реализуйте предложенный на лекции алгоритм Random Hyperplane SimHash. Если алгоритм реализован правильно, то суммарное количество ноликов и единичек в хешах должно быть примерно одинаковое.\n",
    "Степень «похожести» двух документов в данном случае будет доля совпавших бит в хеше. Для поиска ближайших по расстоянию Хэмминга хешей используйте приём с разбиением хеша на части.\n",
    "Оцените качество подбора дубликатов для различных размеров хеша (n). Например, для n равных 16, 64, 128, 256. Для оценки качества используйте ту же метрику, что и в пункте 3.\n"
   ]
  },
  {
   "cell_type": "code",
   "execution_count": 23,
   "metadata": {},
   "outputs": [],
   "source": [
    "#сложна"
   ]
  },
  {
   "cell_type": "markdown",
   "metadata": {},
   "source": [
    "### 5. Расширенная нормализация (+0.5 балла за пункт)\n",
    "Предложите и реализуйте «нормализацию» слов документа, которая устойчива к переименованию именованных сущностей документа. Проверьте на сколько увеличилась полнота срабатывания пункта 1, а также качество пунктов 3 и 4 с новой нормализацией."
   ]
  },
  {
   "cell_type": "markdown",
   "metadata": {},
   "source": [
    "Идея в том, чтоб достать все слова из кода, и заменить их на номера этих слов. Так код станет устойчивым к переименованию сущностей, и при этом между сущностями не потеряются связи"
   ]
  },
  {
   "cell_type": "code",
   "execution_count": 24,
   "metadata": {},
   "outputs": [],
   "source": [
    "def normalize_words2numbers(b):\n",
    "    s = normalize(b)\n",
    "    all_words = set(re.findall('\\w+', s))\n",
    "    rep = {k:str(v) for v, k in enumerate(all_words)}\n",
    "    rep = dict((re.escape(k), v) for k, v in rep.items())\n",
    "    pattern = re.compile(\"|\".join(sorted(list(rep.keys()), key=lambda x: -len(x))))\n",
    "    text = pattern.sub(lambda m: rep[re.escape(m.group(0))], s)\n",
    "    return text"
   ]
  },
  {
   "cell_type": "code",
   "execution_count": 25,
   "metadata": {},
   "outputs": [
    {
     "name": "stdout",
     "output_type": "stream",
     "text": [
      "number of groups: 168\n",
      "Ground truth size 5040\n"
     ]
    },
    {
     "data": {
      "image/png": "[encoded data removed]",
      "text/plain": [
       "<Figure size 432x288 with 1 Axes>"
      ]
     },
     "metadata": {
      "needs_background": "light"
     },
     "output_type": "display_data"
    }
   ],
   "source": [
    "duplicates = fully_duplicates(docs, normalize_words2numbers)\n",
    "duplicates2plot(duplicates)\n",
    "\n",
    "ground_truth = read_ground_truth()     \n",
    "for k, v in duplicates2pairs(duplicates):\n",
    "    assert ground_truth[k][v] == 1.0\n",
    "    ground_truth[k].pop(v)\n",
    "    \n",
    "ground_truth = drop_duplicates(ground_truth, duplicates)\n",
    "cleared_docs = drop_duplicates(docs, duplicates)\n",
    "print('Ground truth size', len(ground_truth))"
   ]
  },
  {
   "cell_type": "markdown",
   "metadata": {},
   "source": [
    "Количество групп увеличилось на одну"
   ]
  },
  {
   "cell_type": "code",
   "execution_count": 26,
   "metadata": {},
   "outputs": [
    {
     "name": "stdout",
     "output_type": "stream",
     "text": [
      "Ndcg@10: 1\n",
      "  Average:\t 0.120265977048616\n",
      "  Median: \t 0.0\n",
      "  Std Dev:\t 0.2453804421847528\n",
      "  Minimum:\t 0.0\n",
      "  Maximum:\t 0.8209006922763384\n"
     ]
    }
   ],
   "source": [
    "table1 = build_lookup_table(cleared_docs, 1, normalize_words2numbers)\n",
    "ndcg10_stats(\"Ndcg@10: 1\", table1, ground_truth)"
   ]
  },
  {
   "cell_type": "code",
   "execution_count": 27,
   "metadata": {},
   "outputs": [
    {
     "name": "stdout",
     "output_type": "stream",
     "text": [
      "Ndcg@10: 10\n",
      "  Average:\t 0.35466873474696126\n",
      "  Median: \t 0.37592505181283664\n",
      "  Std Dev:\t 0.32816202827153396\n",
      "  Minimum:\t 0.0\n",
      "  Maximum:\t 0.8209006922763384\n"
     ]
    }
   ],
   "source": [
    "table10 = build_lookup_table(cleared_docs, 10, normalize_words2numbers)\n",
    "ndcg10_stats(\"Ndcg@10: 10\", table10, ground_truth)"
   ]
  },
  {
   "cell_type": "code",
   "execution_count": 28,
   "metadata": {},
   "outputs": [
    {
     "name": "stdout",
     "output_type": "stream",
     "text": [
      "Ndcg@10: 50\n",
      "  Average:\t 0.40913308851248964\n",
      "  Median: \t 0.511386247470709\n",
      "  Std Dev:\t 0.35470040020485666\n",
      "  Minimum:\t 0.0\n",
      "  Maximum:\t 0.8863193392658992\n"
     ]
    }
   ],
   "source": [
    "table1 = build_lookup_table(cleared_docs, 50, normalize_words2numbers)\n",
    "ndcg10_stats(\"Ndcg@10: 50\", table1, ground_truth)"
   ]
  },
  {
   "cell_type": "code",
   "execution_count": 29,
   "metadata": {},
   "outputs": [
    {
     "name": "stdout",
     "output_type": "stream",
     "text": [
      "Ndcg@10: 100\n",
      "  Average:\t 0.40566355664415327\n",
      "  Median: \t 0.473958625940342\n",
      "  Std Dev:\t 0.3535482037433641\n",
      "  Minimum:\t 0.0\n",
      "  Maximum:\t 0.8304777303845237\n"
     ]
    }
   ],
   "source": [
    "table1 = build_lookup_table(cleared_docs, 100, normalize_words2numbers)\n",
    "ndcg10_stats(\"Ndcg@10: 100\", table1, ground_truth)"
   ]
  },
  {
   "cell_type": "markdown",
   "metadata": {},
   "source": [
    "Предложите и реализуйте удаление слов документа, которые не влияют на логику документа. Проверьте на сколько увеличилась полнота срабатывания пункта 1, а также качество пунктов 3 и 4 с новой нормализацией."
   ]
  },
  {
   "cell_type": "markdown",
   "metadata": {},
   "source": [
    "Просто разбиваю по строкам и убираю строки, которые начинаются с символов в useless (комменты и импорты)"
   ]
  },
  {
   "cell_type": "code",
   "execution_count": 30,
   "metadata": {},
   "outputs": [],
   "source": [
    "useless = ('/', '#', '/*', '*', 'import')\n",
    "\n",
    "def normalize_remove_useless(b):\n",
    "    all_lines = b.split('\\n')\n",
    "    s = \" \".join(filter(lambda l: not l.startswith(useless), all_lines))\n",
    "    s = normalize(s)\n",
    "    return s"
   ]
  },
  {
   "cell_type": "code",
   "execution_count": 36,
   "metadata": {
    "scrolled": true
   },
   "outputs": [
    {
     "name": "stdout",
     "output_type": "stream",
     "text": [
      "number of groups: 176\n",
      "Ground truth size 5025\n"
     ]
    },
    {
     "data": {
      "image/png": "[encoded data removed]",
      "text/plain": [
       "<Figure size 432x288 with 1 Axes>"
      ]
     },
     "metadata": {
      "needs_background": "light"
     },
     "output_type": "display_data"
    }
   ],
   "source": [
    "duplicates = fully_duplicates(docs, normalize_remove_useless)\n",
    "duplicates2plot(duplicates)\n",
    "\n",
    "ground_truth = read_ground_truth()     \n",
    "for k, v in duplicates2pairs(duplicates):\n",
    "    assert ground_truth[k][v] == 1.0\n",
    "    ground_truth[k].pop(v)\n",
    "    \n",
    "ground_truth = drop_duplicates(ground_truth, duplicates)\n",
    "cleared_docs = drop_duplicates(docs, duplicates)\n",
    "print('Ground truth size', len(ground_truth))"
   ]
  },
  {
   "cell_type": "markdown",
   "metadata": {},
   "source": [
    "А вот тут количество групп увеличилось значительно!"
   ]
  },
  {
   "cell_type": "code",
   "execution_count": 32,
   "metadata": {},
   "outputs": [
    {
     "name": "stdout",
     "output_type": "stream",
     "text": [
      "Ndcg@10: 1\n",
      "  Average:\t 0.2230619216868277\n",
      "  Median: \t 0.20331265821639477\n",
      "  Std Dev:\t 0.19095848935752405\n",
      "  Minimum:\t 0.0\n",
      "  Maximum:\t 0.5439133622738908\n"
     ]
    }
   ],
   "source": [
    "table1 = build_lookup_table(cleared_docs, 1, normalize_remove_useless)\n",
    "ndcg10_stats(\"Ndcg@10: 1\", table1, ground_truth)"
   ]
  },
  {
   "cell_type": "code",
   "execution_count": 33,
   "metadata": {},
   "outputs": [
    {
     "name": "stdout",
     "output_type": "stream",
     "text": [
      "Ndcg@10: 10\n",
      "  Average:\t 0.37588238697548465\n",
      "  Median: \t 0.5096585402985836\n",
      "  Std Dev:\t 0.3203159091081704\n",
      "  Minimum:\t 0.0\n",
      "  Maximum:\t 0.8209006922763384\n"
     ]
    }
   ],
   "source": [
    "table1 = build_lookup_table(cleared_docs, 10, normalize_remove_useless)\n",
    "ndcg10_stats(\"Ndcg@10: 10\", table1, ground_truth)"
   ]
  },
  {
   "cell_type": "code",
   "execution_count": 34,
   "metadata": {},
   "outputs": [
    {
     "name": "stdout",
     "output_type": "stream",
     "text": [
      "Ndcg@10: 50\n",
      "  Average:\t 0.4110118117664422\n",
      "  Median: \t 0.48542531322000015\n",
      "  Std Dev:\t 0.35446035923683\n",
      "  Minimum:\t 0.0\n",
      "  Maximum:\t 0.8209006922763384\n"
     ]
    }
   ],
   "source": [
    "table1 = build_lookup_table(cleared_docs, 50, normalize_remove_useless)\n",
    "ndcg10_stats(\"Ndcg@10: 50\", table1, ground_truth)"
   ]
  },
  {
   "cell_type": "code",
   "execution_count": 35,
   "metadata": {},
   "outputs": [
    {
     "name": "stdout",
     "output_type": "stream",
     "text": [
      "Ndcg@10: 100\n",
      "  Average:\t 0.4020379796168979\n",
      "  Median: \t 0.4122745802476363\n",
      "  Std Dev:\t 0.3586703040123339\n",
      "  Minimum:\t 0.0\n",
      "  Maximum:\t 0.8209006922763384\n"
     ]
    }
   ],
   "source": [
    "table1 = build_lookup_table(cleared_docs, 100, normalize_remove_useless)\n",
    "ndcg10_stats(\"Ndcg@10: 100\", table1, ground_truth)"
   ]
  }
 ],
 "metadata": {
  "kernelspec": {
   "display_name": "Python 3",
   "language": "python",
   "name": "python3"
  },
  "language_info": {
   "codemirror_mode": {
    "name": "ipython",
    "version": 3
   },
   "file_extension": ".py",
   "mimetype": "text/x-python",
   "name": "python",
   "nbconvert_exporter": "python",
   "pygments_lexer": "ipython3",
   "version": "3.8.6"
  }
 },
 "nbformat": 4,
 "nbformat_minor": 4
}

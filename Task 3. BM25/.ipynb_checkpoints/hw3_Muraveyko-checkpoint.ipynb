{
 "cells": [
  {
   "cell_type": "code",
   "execution_count": 4,
   "metadata": {},
   "outputs": [],
   "source": [
    "from tqdm import tqdm\n",
    "\n",
    "from typing import Dict, List, Tuple\n",
    "\n",
    "ArticleName = str\n",
    "Text = str\n",
    "Term = str\n",
    "CollectionData = Dict[str, Dict[str,  float]]\n",
    "RankingParams = {}\n",
    "\n",
    "PREFIX = '/wiki/'"
   ]
  },
  {
   "cell_type": "markdown",
   "metadata": {},
   "source": [
    "### 1. Датасет\n",
    "В качестве документов для поиска, требуется использовать статьи википедии, скачанные в одном из предыдущих домашних заданий.\n",
    "Реализуйте получение содержимого документа по названию статьи в соответствии с выбранной вами схемы хранения документов. Также, преобразуйте содержимое в текст (не html) любым разумным способом. Постарайтесь при этом вырезать заведомо бесполезные для поиска данные со страницы."
   ]
  },
  {
   "cell_type": "code",
   "execution_count": 5,
   "metadata": {},
   "outputs": [],
   "source": [
    "import pickle\n",
    "import gzip\n",
    "import html2text\n",
    "\n",
    "url_path_map_value = {}\n",
    "\n",
    "with open('url_path_map.p', 'rb') as f:\n",
    "    url_path_map_value = pickle.load(f)"
   ]
  },
  {
   "cell_type": "code",
   "execution_count": 6,
   "metadata": {},
   "outputs": [
    {
     "name": "stdout",
     "output_type": "stream",
     "text": [
      "Article: Software_Development_Kit\n",
      "Software Development Kit A software development kit (SDK or \"devkit\") is usually a set of development tools that allows a software developer to create applications for a certain software package, software framework, hardware platform, computer system, video game console, operating system, or similar platform.    SDKs vary greatly between a simple application programming interface to hardware used to simulate \n",
      "\n",
      "\n",
      "Article: Gangrene\n",
      "Gangrene Gangrene is a serious medical condition that causes the decay and death of body tissue, usually in the extremities such as the fingers, hands, toes, and feet. The two main types of gangrene are dry gangrene and wet gangrene. A third less common type is a form of wet gangrene known as gas gangrene.  A very rare type which affects the internal organs is known as internal gangrene.    Dry gangrene is usually caused by a loss of blood supply to the affected area, such as may happen following an injury which damages the blood vessels to the affected area. Wet gangrene usually occurs when a wound becomes infected with various types of bacteria. Gas gangrene is usually  caused by clostridium bacteria and mainly affects the muscles. Internal gangrene affects the internal organs, usually the intestines, gallbladder, or appendix.   There are a number of risk factors which increase a person's chances of getting gangrene. These includes advanced blockage of the arteries in medical conditions such as dia\n",
      "\n",
      "\n",
      "Article: COVID-19_pandemic_in_Belarus\n",
      "COVID-19 pandemic in Belarus      >2000 confirmed cases     1000–1999 confirmed cases     500–999 confirmed cases     200–499 confirmed cases References The COVID-19 pandemic was confirmed to have spread to Belarus, when the first case of COVID-19 in the country was registered in Minsk on 28 February 2020.   On 28 February, Belarus confirmed its first case. A student from Iran tested positive on 27 February and was admitted to a hospital in Minsk. The individual arrived in Belarus via a flight from Baku, Azerbaijan, on 22 February.   On 21 March, a total of 76 confirmed cases have been reported. Two days later, 81 confirmed cases have been reported, including 22 recoveries. According to the official data, more than 21,000 COVID-19 tests have been conducted in Belarus since 23 January.   On 31 March, the first death was reported in\n",
      "\n",
      "\n",
      "Article: Guitar_Hero:_Aerosmith\n",
      "Guitar Hero: Aerosmith Guitar Hero: Aerosmith is a rhythm game made by Neversoft with other help from Activision. It is part of the Guitar Hero franchise. The game was released in North America on June 29 2008, and two days earlier in Europe. Other websites Some of the songs featured in the game include \"Combination\", \"Kings and Queens\", \"Train Kept A Rollin\" and \"Mama Kin\".\n",
      "\n",
      "\n"
     ]
    }
   ],
   "source": [
    "from bs4 import BeautifulSoup\n",
    "import re \n",
    "import itertools  \n",
    "\n",
    "def html2text(html):\n",
    "    soup = BeautifulSoup(html)\n",
    "    paras = []\n",
    "    for paragraph in soup.find_all('p'):\n",
    "        paras.append(str(paragraph.text))\n",
    "    heads = []\n",
    "    for head in soup.find_all('span', attrs={'mw-headline'}):\n",
    "        heads.append(str(head.text))\n",
    "    text = [val for pair in itertools.zip_longest(paras, heads, fillvalue =' ' ) for val in pair]\n",
    "    text = ' '.join(text)\n",
    "    text = re.sub(r\"\\[.*?\\]+\", '', text)\n",
    "\n",
    "    text = text.replace('\\n', '')[:-11]\n",
    "    return text\n",
    "\n",
    "\n",
    "def get_article_text(article_name: ArticleName) -> Text:\n",
    "    text = \"\"\n",
    "    key = PREFIX + article_name\n",
    "    if key in url_path_map_value:\n",
    "        path = url_path_map_value[key]\n",
    "        if path != '':\n",
    "            with gzip.open(path, 'rb') as f:\n",
    "                html = gzip.decompress(f.read()).decode('utf-8')\n",
    "                title = article_name.replace('_', ' ')\n",
    "                text = f'{title} {html2text(html)}'\n",
    "    return text\n",
    "\n",
    "\n",
    "for article_name in [\"Software_Development_Kit\", \"Gangrene\", \"COVID-19_pandemic_in_Belarus\", \"Guitar_Hero:_Aerosmith\"]:\n",
    "    print(f'Article: {article_name}\\n{get_article_text(article_name)}\\n\\n')"
   ]
  },
  {
   "cell_type": "code",
   "execution_count": 7,
   "metadata": {},
   "outputs": [
    {
     "name": "stderr",
     "output_type": "stream",
     "text": [
      "15229it [08:55, 28.42it/s]"
     ]
    },
    {
     "name": "stdout",
     "output_type": "stream",
     "text": [
      "15229 docs loaded\n"
     ]
    },
    {
     "name": "stderr",
     "output_type": "stream",
     "text": [
      "\n"
     ]
    }
   ],
   "source": [
    "#with multi-processes: AttributeError: Can't get attribute 'get_article_text' on <module '__main__' (built-in)> !!!!\n",
    "\n",
    "from multiprocessing import Pool\n",
    "\n",
    "def load_docs(selected_docs_fn: ArticleName, threads: int = 4) -> Dict[ArticleName, Text]:    \n",
    "    docs = {}\n",
    "    for line in tqdm(open(selected_docs_fn)):\n",
    "        article_name = line.strip()\n",
    "        docs[article_name] = get_article_text(article_name)\n",
    "    return docs\n",
    "    \n",
    "docs = load_docs(\"./selected_docs.tsv\", 32)\n",
    "print(f'{len(docs)} docs loaded')"
   ]
  },
  {
   "cell_type": "markdown",
   "metadata": {},
   "source": [
    "Чтобы процесс занимал разумное время, поиск требуется производить только по некоторому заданному набору документов. Список целевых статей описан в файле selected_docs.tsv по одной на строку."
   ]
  },
  {
   "cell_type": "markdown",
   "metadata": {},
   "source": [
    "### 2. Поиск\n",
    "Реализуйте разбиение текста на термы."
   ]
  },
  {
   "cell_type": "code",
   "execution_count": 8,
   "metadata": {},
   "outputs": [
    {
     "name": "stdout",
     "output_type": "stream",
     "text": [
      "Hello, world! -> ['hello', 'world']\n",
      "Guitar Hero: Aerosmith -> ['guitar', 'hero', 'aerosmith']\n",
      "So Far, So Good... So What! -> ['so', 'far', 'so', 'good', 'so', 'what']\n",
      "such as mantı, döner, kebabs, Turkish delight, baklava, börek, köfte, and other foods -> ['such', 'as', 'mantı', 'döner', 'kebabs', 'turkish', 'delight', 'baklava', 'börek', 'köfte', 'and', 'other', 'foods']\n"
     ]
    }
   ],
   "source": [
    "import string\n",
    "\n",
    "def make_terms(text: Text) -> List[Term]:\n",
    "    return text.lower().translate(str.maketrans('', '', string.punctuation)).split()\n",
    "\n",
    "for text in [\"Hello, world!\", \n",
    "             \"Guitar Hero: Aerosmith\", \n",
    "             \"So Far, So Good... So What!\", \n",
    "             \"such as mantı, döner, kebabs, Turkish delight, baklava, börek, köfte, and other foods\",\n",
    "            ]:\n",
    "    print(f'{text} -> {make_terms(text)}')"
   ]
  },
  {
   "cell_type": "markdown",
   "metadata": {},
   "source": [
    "Рассчитайте статистики термов и документов, которые понадобятся для реализации моделей tfidf и BM25: частота терма для документа, обратная документная частота терма и прочие."
   ]
  },
  {
   "cell_type": "code",
   "execution_count": 11,
   "metadata": {},
   "outputs": [],
   "source": [
    "import math\n",
    "from collections import Counter\n",
    "\n",
    "bags_of_words = {k:make_terms(v) for k, v in docs.items()}\n",
    "bodies = [len(v) for _, v in bags_of_words.items()]\n",
    "N = len(bodies)\n",
    "average_len = sum(bodies) / N\n",
    "\n",
    "\n",
    "def computeTF(word_dict, bag_of_words, term):\n",
    "    return {term: word_dict[term] / len(bag_of_words)}\n",
    "\n",
    "\n",
    "def computeIDF(documents):\n",
    "    return math.log((N + 1) / len(documents))\n",
    "\n",
    "\n",
    "def computeTFIDF(tfBagOfWords, idfs, term):\n",
    "    return tfBagOfWords[term] * idfs[term]\n",
    "\n",
    "\n",
    "def prepare_collection_data(docs: Dict[ArticleName, Text]) -> CollectionData:\n",
    "    num_of_words = {k:dict(Counter(v)) for k, v in bags_of_words.items()}\n",
    "    tf_inv_idx = {}\n",
    "\n",
    "    for title, tf in num_of_words.items():\n",
    "        for word, val in tf.items():\n",
    "            d = tf_inv_idx.get(word, {})\n",
    "            d[title] = val\n",
    "            tf_inv_idx[word] = d\n",
    "\n",
    "    return tf_inv_idx\n",
    "\n",
    "\n",
    "collection_data = prepare_collection_data(docs)"
   ]
  },
  {
   "cell_type": "markdown",
   "metadata": {},
   "source": [
    "Реализуйте поиск лучших 10 документов в модели tfidf и BM25 с параметрами b = 1, k1 = 1, k2=1.\n",
    "Строить инвертированный индекс не требуется (но и не запрещается)."
   ]
  },
  {
   "cell_type": "code",
   "execution_count": 12,
   "metadata": {},
   "outputs": [
    {
     "name": "stdout",
     "output_type": "stream",
     "text": [
      "[coronovirus in belarus]\n",
      "   9.62  COVID-19_pandemic_in_Belarus\n",
      "   9.17  Daugava_River\n",
      "   8.92  Bug_River\n",
      "   7.82  List_of_Nobel_Prize_winners_by_country\n",
      "   6.69  Jagiellon_dynasty\n",
      "\n",
      "\n",
      "[who won junior eurovision in 2005]\n",
      "  26.75  Junior_Eurovision_Song_Contest_2019\n",
      "  23.86  Junior_Eurovision_Song_Contest_2004\n",
      "  19.25  Junior_Eurovision_Song_Contest_2014\n",
      "  19.18  Junior_Eurovision_Song_Contest_2015\n",
      "  14.86  Eurovision:_Europe_Shine_a_Light\n",
      "\n",
      "\n",
      "[science about full-text search]\n",
      "  20.70  Information_retrieval\n",
      "  10.99  Citizen_science\n",
      "  10.39  Ask.com\n",
      "  10.25  Monty_Python_and_the_Holy_Grail\n",
      "   9.45  The_Saga_of_the_Viking_Women_and_Their_Voyage_to_the_Waters_of_the_Great_Sea_Serpent\n",
      "\n",
      "\n"
     ]
    }
   ],
   "source": [
    "\n",
    "def score_BM25(n, f, qf, dl, b, k1, k2):\n",
    "    K = compute_K(k1, b, dl, average_len)\n",
    "    first = math.log((N - n + 0.5) / (n + 0.5))\n",
    "    second = ((k1 + 1) * f) / (K + f)\n",
    "    third = ((k2+1) * qf) / (k2 + qf)\n",
    "    return first * second * third\n",
    "\n",
    "\n",
    "def compute_K(k1, b, dl, avdl):\n",
    "    return k1 * ((1 - b) + b * dl / avdl)\n",
    "\n",
    "\n",
    "def search(query: Text, collection_data: CollectionData, ranking_params: RankingParams) -> List[Tuple[ArticleName, float]]:\n",
    "\n",
    "    c = Counter({})\n",
    "    terms = make_terms(query)\n",
    "    type_ = ranking_params.get('type', 'bm25')\n",
    "    b = ranking_params.get('b', 1)\n",
    "    k1 = ranking_params.get('k1', 1)\n",
    "    k2 = ranking_params.get('k2', 1)\n",
    "\n",
    "    q = dict(Counter(terms))\n",
    "\n",
    "    if type_ == 'bm25':\n",
    "        for term in terms:\n",
    "            doc_dict = collection_data.get(term, {})\n",
    "            for title, freq in doc_dict.items():\n",
    "                score = score_BM25(n=len(doc_dict), f=freq, qf=q[term],\n",
    "                                  dl=len(bags_of_words[title]), b=b, k1=k1, k2=k2\n",
    "                )\n",
    "                if title in c:\n",
    "                    c[title] += score\n",
    "                else:\n",
    "                    c[title] = score\n",
    "    else:\n",
    "        #tfidf\n",
    "        for term in terms:\n",
    "            term_docs = collection_data.get(term, {})\n",
    "            titles = [title for title, _ in term_docs.items()]\n",
    "            if len(titles) > 0:\n",
    "                num_of_words = {title:dict(Counter(bags_of_words[title])) for title in titles}\n",
    "                tfs = {title:computeTF(num_of_words[title], bags_of_words[title], term) for title in titles}\n",
    "                idfs = {term: computeIDF(titles)}\n",
    "                tfidfs = {title: computeTFIDF(tfs[title], idfs, term) for title in titles}\n",
    "                for title, tfidf in tfidfs.items():\n",
    "                    if title in c:\n",
    "                        c[title] += tfidf\n",
    "                    else:\n",
    "                        c[title] = tfidf\n",
    "    return sorted([(title, rank) for title, rank in c.items()], key=lambda x: -x[1])\n",
    "        \n",
    "\n",
    "ranking_params = {'b': 1, 'k1': 1, 'k2': 1, 'type': 'bm25'}\n",
    "for query in [\"coronovirus in belarus\",\n",
    "              \"who won junior eurovision in 2005\",\n",
    "              \"science about full-text search\",\n",
    "             ]:\n",
    "    result = search(query, collection_data, ranking_params)[:5]\n",
    "    print(f\"[{query}]\")\n",
    "    for article_name, score in result:\n",
    "        print(f\"{score:7.2f}  {article_name}\")\n",
    "    print(\"\\n\")"
   ]
  },
  {
   "cell_type": "markdown",
   "metadata": {},
   "source": [
    "### 3. Оптимизация качества\n",
    "Для измерения качества поиска вам предоставляется список из пар (запрос, название статьи), которая означает, что по данному запросу данная статья является релевантной (а остальные – нерелевантны). Пары описаны в файле queries.tsv по одной на строку."
   ]
  },
  {
   "cell_type": "code",
   "execution_count": 13,
   "metadata": {},
   "outputs": [
    {
     "name": "stdout",
     "output_type": "stream",
     "text": [
      "200 queries loaded\n",
      "animals that have shells and live in water -> Shell_(zoology)\n",
      "how many different types of scorpions are there -> Scorpion\n",
      "describe the structure of a scientific name for a species -> Binomial_nomenclature\n",
      "what are the 3 types of plastids in plant cells -> Plastid\n",
      "who named the cell and how did he come up with that name -> Cell_theory\n"
     ]
    }
   ],
   "source": [
    "def load_queries(queries_fn: ArticleName) -> List[Tuple[Text, ArticleName]]:\n",
    "    queries = []\n",
    "    for line in open(queries_fn):\n",
    "        query, answer = line.rstrip().split('\\t', 1)\n",
    "        queries.append((query, answer))\n",
    "    return queries\n",
    "\n",
    "queries = load_queries(\"./queries.tsv\")\n",
    "for query, answer in queries:\n",
    "    assert answer in docs\n",
    "    \n",
    "print(f'{len(queries)} queries loaded')\n",
    "for query, article_name in queries[:5]:\n",
    "    print(f'{query} -> {article_name}')"
   ]
  },
  {
   "cell_type": "markdown",
   "metadata": {},
   "source": [
    "Оценим поиск по нескольким метрикам: accuracy – доля запросов, где на первой позиции был найден релевантный документ; accuracy@10 – доля запросов, где релевантный документ попал в первую десятку, mrr@10 – средняя обратная позиция релевантного документа в первой десятке."
   ]
  },
  {
   "cell_type": "code",
   "execution_count": 14,
   "metadata": {},
   "outputs": [],
   "source": [
    "def run(title, queries: List[Tuple[Text, ArticleName]], collection_data: CollectionData, ranking_params: RankingParams) -> None:\n",
    "    accuracy = 0.0\n",
    "    accuracy10 = 0.0\n",
    "    rr = 0.0\n",
    "    processed = 0\n",
    "    with tqdm(queries) as progress:\n",
    "        for query, answer in progress:\n",
    "            result = search(query, collection_data, ranking_params)[:10]\n",
    "            \n",
    "            rank = None\n",
    "            for position, (article_name, score) in enumerate(result):\n",
    "                if article_name == answer:\n",
    "                    rank = position + 1\n",
    "                    break\n",
    "                \n",
    "            if rank is not None:\n",
    "                accuracy += (rank == 1)\n",
    "                accuracy10 += (rank <= 10)\n",
    "                rr += 1.0 / rank\n",
    "                \n",
    "            processed += 1\n",
    "            progress.set_description(f'Acc: {accuracy/processed:0.2f}, Acc10: {accuracy10/processed:0.2f}, RR: {rr/processed:0.2f}')\n",
    "    print(f'{title}\\n  Accuracy: {accuracy/processed:0.2f}\\n  Accuracy10: {accuracy10/processed:0.2f}\\n  RR: {rr/processed:0.2f}')"
   ]
  },
  {
   "cell_type": "markdown",
   "metadata": {},
   "source": [
    "Сравните реализованные Вами алгоритмы tfidf и BM25 по этим метрикам."
   ]
  },
  {
   "cell_type": "code",
   "execution_count": 15,
   "metadata": {},
   "outputs": [
    {
     "name": "stderr",
     "output_type": "stream",
     "text": [
      "Acc: 0.03, Acc10: 0.17, RR: 0.07: 100%|██████████| 200/200 [05:55<00:00,  1.78s/it]\n",
      "  0%|          | 0/200 [00:00<?, ?it/s]"
     ]
    },
    {
     "name": "stdout",
     "output_type": "stream",
     "text": [
      "TFIDF\n",
      "  Accuracy: 0.03\n",
      "  Accuracy10: 0.17\n",
      "  RR: 0.07\n"
     ]
    },
    {
     "name": "stderr",
     "output_type": "stream",
     "text": [
      "Acc: 0.18, Acc10: 0.47, RR: 0.27: 100%|██████████| 200/200 [00:16<00:00, 12.01it/s]"
     ]
    },
    {
     "name": "stdout",
     "output_type": "stream",
     "text": [
      "BM25\n",
      "  Accuracy: 0.18\n",
      "  Accuracy10: 0.47\n",
      "  RR: 0.27\n"
     ]
    },
    {
     "name": "stderr",
     "output_type": "stream",
     "text": [
      "\n"
     ]
    }
   ],
   "source": [
    "ranking_params = {\"type\": \"\"}\n",
    "run(\"TFIDF\", queries, collection_data, ranking_params)\n",
    "run(\"BM25\", queries, collection_data, {})"
   ]
  },
  {
   "cell_type": "markdown",
   "metadata": {},
   "source": [
    "Подберите оптимальные параметры BM25 для этого набора запросов и документов."
   ]
  },
  {
   "cell_type": "code",
   "execution_count": 15,
   "metadata": {},
   "outputs": [
    {
     "name": "stderr",
     "output_type": "stream",
     "text": [
      "Acc: 0.06, Acc10: 0.21, RR: 0.10: 100%|██████████| 200/200 [00:29<00:00,  6.67it/s]\n",
      "Acc: 0.00, Acc10: 0.00, RR: 0.00:   0%|          | 1/200 [00:00<00:23,  8.37it/s]"
     ]
    },
    {
     "name": "stdout",
     "output_type": "stream",
     "text": [
      "{'b': 0.0, 'k1': 0, 'k2': 0, 'type': 'bm25'}\n",
      "  Accuracy: 0.06\n",
      "  Accuracy10: 0.21\n",
      "  RR: 0.10\n"
     ]
    },
    {
     "name": "stderr",
     "output_type": "stream",
     "text": [
      "Acc: 0.06, Acc10: 0.21, RR: 0.10: 100%|██████████| 200/200 [00:28<00:00,  6.99it/s]\n",
      "Acc: 0.00, Acc10: 0.00, RR: 0.00:   0%|          | 1/200 [00:00<00:32,  6.07it/s]"
     ]
    },
    {
     "name": "stdout",
     "output_type": "stream",
     "text": [
      "{'b': 0.0, 'k1': 0, 'k2': 1, 'type': 'bm25'}\n",
      "  Accuracy: 0.06\n",
      "  Accuracy10: 0.21\n",
      "  RR: 0.10\n"
     ]
    },
    {
     "name": "stderr",
     "output_type": "stream",
     "text": [
      "Acc: 0.06, Acc10: 0.21, RR: 0.10: 100%|██████████| 200/200 [00:29<00:00,  6.73it/s]\n",
      "Acc: 0.00, Acc10: 0.00, RR: 0.00:   0%|          | 1/200 [00:00<00:35,  5.59it/s]"
     ]
    },
    {
     "name": "stdout",
     "output_type": "stream",
     "text": [
      "{'b': 0.0, 'k1': 0, 'k2': 2, 'type': 'bm25'}\n",
      "  Accuracy: 0.06\n",
      "  Accuracy10: 0.21\n",
      "  RR: 0.10\n"
     ]
    },
    {
     "name": "stderr",
     "output_type": "stream",
     "text": [
      "Acc: 0.06, Acc10: 0.21, RR: 0.10: 100%|██████████| 200/200 [00:27<00:00,  7.15it/s]\n",
      "Acc: 0.00, Acc10: 0.00, RR: 0.00:   0%|          | 1/200 [00:00<00:25,  7.78it/s]"
     ]
    },
    {
     "name": "stdout",
     "output_type": "stream",
     "text": [
      "{'b': 0.0, 'k1': 0, 'k2': 3, 'type': 'bm25'}\n",
      "  Accuracy: 0.06\n",
      "  Accuracy10: 0.21\n",
      "  RR: 0.10\n"
     ]
    },
    {
     "name": "stderr",
     "output_type": "stream",
     "text": [
      "Acc: 0.06, Acc10: 0.21, RR: 0.10: 100%|██████████| 200/200 [00:26<00:00,  7.64it/s]\n",
      "Acc: 0.00, Acc10: 0.00, RR: 0.00:   0%|          | 1/200 [00:00<00:24,  8.07it/s]"
     ]
    },
    {
     "name": "stdout",
     "output_type": "stream",
     "text": [
      "{'b': 0.0, 'k1': 0, 'k2': 4, 'type': 'bm25'}\n",
      "  Accuracy: 0.06\n",
      "  Accuracy10: 0.21\n",
      "  RR: 0.10\n"
     ]
    },
    {
     "name": "stderr",
     "output_type": "stream",
     "text": [
      "Acc: 0.06, Acc10: 0.21, RR: 0.10: 100%|██████████| 200/200 [00:26<00:00,  7.62it/s]\n",
      "Acc: 0.00, Acc10: 0.00, RR: 0.00:   0%|          | 1/200 [00:00<00:25,  7.93it/s]"
     ]
    },
    {
     "name": "stdout",
     "output_type": "stream",
     "text": [
      "{'b': 0.0, 'k1': 0, 'k2': 5, 'type': 'bm25'}\n",
      "  Accuracy: 0.06\n",
      "  Accuracy10: 0.21\n",
      "  RR: 0.10\n"
     ]
    },
    {
     "name": "stderr",
     "output_type": "stream",
     "text": [
      "Acc: 0.08, Acc10: 0.26, RR: 0.13: 100%|██████████| 200/200 [00:26<00:00,  7.68it/s]\n",
      "Acc: 0.00, Acc10: 0.00, RR: 0.00:   0%|          | 1/200 [00:00<00:23,  8.35it/s]"
     ]
    },
    {
     "name": "stdout",
     "output_type": "stream",
     "text": [
      "{'b': 0.0, 'k1': 1, 'k2': 0, 'type': 'bm25'}\n",
      "  Accuracy: 0.08\n",
      "  Accuracy10: 0.26\n",
      "  RR: 0.13\n"
     ]
    },
    {
     "name": "stderr",
     "output_type": "stream",
     "text": [
      "Acc: 0.08, Acc10: 0.26, RR: 0.13: 100%|██████████| 200/200 [00:25<00:00,  7.72it/s]\n",
      "Acc: 0.00, Acc10: 0.00, RR: 0.00:   0%|          | 1/200 [00:00<00:24,  8.20it/s]"
     ]
    },
    {
     "name": "stdout",
     "output_type": "stream",
     "text": [
      "{'b': 0.0, 'k1': 1, 'k2': 1, 'type': 'bm25'}\n",
      "  Accuracy: 0.08\n",
      "  Accuracy10: 0.26\n",
      "  RR: 0.13\n"
     ]
    },
    {
     "name": "stderr",
     "output_type": "stream",
     "text": [
      "Acc: 0.08, Acc10: 0.26, RR: 0.13: 100%|██████████| 200/200 [00:25<00:00,  7.72it/s]\n",
      "Acc: 0.00, Acc10: 0.00, RR: 0.00:   0%|          | 1/200 [00:00<00:25,  7.92it/s]"
     ]
    },
    {
     "name": "stdout",
     "output_type": "stream",
     "text": [
      "{'b': 0.0, 'k1': 1, 'k2': 2, 'type': 'bm25'}\n",
      "  Accuracy: 0.08\n",
      "  Accuracy10: 0.26\n",
      "  RR: 0.13\n"
     ]
    },
    {
     "name": "stderr",
     "output_type": "stream",
     "text": [
      "Acc: 0.08, Acc10: 0.26, RR: 0.13: 100%|██████████| 200/200 [00:26<00:00,  7.69it/s]\n",
      "Acc: 0.00, Acc10: 0.00, RR: 0.00:   0%|          | 1/200 [00:00<00:24,  8.17it/s]"
     ]
    },
    {
     "name": "stdout",
     "output_type": "stream",
     "text": [
      "{'b': 0.0, 'k1': 1, 'k2': 3, 'type': 'bm25'}\n",
      "  Accuracy: 0.08\n",
      "  Accuracy10: 0.26\n",
      "  RR: 0.13\n"
     ]
    },
    {
     "name": "stderr",
     "output_type": "stream",
     "text": [
      "Acc: 0.08, Acc10: 0.26, RR: 0.13: 100%|██████████| 200/200 [00:25<00:00,  7.73it/s]\n",
      "Acc: 0.00, Acc10: 0.00, RR: 0.00:   0%|          | 1/200 [00:00<00:24,  7.98it/s]"
     ]
    },
    {
     "name": "stdout",
     "output_type": "stream",
     "text": [
      "{'b': 0.0, 'k1': 1, 'k2': 4, 'type': 'bm25'}\n",
      "  Accuracy: 0.08\n",
      "  Accuracy10: 0.26\n",
      "  RR: 0.13\n"
     ]
    },
    {
     "name": "stderr",
     "output_type": "stream",
     "text": [
      "Acc: 0.08, Acc10: 0.26, RR: 0.13: 100%|██████████| 200/200 [00:26<00:00,  7.63it/s]\n",
      "Acc: 0.00, Acc10: 0.00, RR: 0.00:   0%|          | 1/200 [00:00<00:27,  7.29it/s]"
     ]
    },
    {
     "name": "stdout",
     "output_type": "stream",
     "text": [
      "{'b': 0.0, 'k1': 1, 'k2': 5, 'type': 'bm25'}\n",
      "  Accuracy: 0.08\n",
      "  Accuracy10: 0.26\n",
      "  RR: 0.13\n"
     ]
    },
    {
     "name": "stderr",
     "output_type": "stream",
     "text": [
      "Acc: 0.09, Acc10: 0.28, RR: 0.14: 100%|██████████| 200/200 [00:25<00:00,  7.70it/s]\n",
      "Acc: 0.00, Acc10: 0.00, RR: 0.00:   0%|          | 1/200 [00:00<00:24,  8.22it/s]"
     ]
    },
    {
     "name": "stdout",
     "output_type": "stream",
     "text": [
      "{'b': 0.0, 'k1': 2, 'k2': 0, 'type': 'bm25'}\n",
      "  Accuracy: 0.09\n",
      "  Accuracy10: 0.28\n",
      "  RR: 0.14\n"
     ]
    },
    {
     "name": "stderr",
     "output_type": "stream",
     "text": [
      "Acc: 0.09, Acc10: 0.28, RR: 0.14: 100%|██████████| 200/200 [00:25<00:00,  7.70it/s]\n",
      "Acc: 0.00, Acc10: 0.00, RR: 0.00:   0%|          | 1/200 [00:00<00:26,  7.55it/s]"
     ]
    },
    {
     "name": "stdout",
     "output_type": "stream",
     "text": [
      "{'b': 0.0, 'k1': 2, 'k2': 1, 'type': 'bm25'}\n",
      "  Accuracy: 0.09\n",
      "  Accuracy10: 0.28\n",
      "  RR: 0.14\n"
     ]
    },
    {
     "name": "stderr",
     "output_type": "stream",
     "text": [
      "Acc: 0.09, Acc10: 0.28, RR: 0.14: 100%|██████████| 200/200 [00:25<00:00,  7.73it/s]\n",
      "Acc: 0.00, Acc10: 0.00, RR: 0.00:   0%|          | 1/200 [00:00<00:25,  7.85it/s]"
     ]
    },
    {
     "name": "stdout",
     "output_type": "stream",
     "text": [
      "{'b': 0.0, 'k1': 2, 'k2': 2, 'type': 'bm25'}\n",
      "  Accuracy: 0.09\n",
      "  Accuracy10: 0.28\n",
      "  RR: 0.14\n"
     ]
    },
    {
     "name": "stderr",
     "output_type": "stream",
     "text": [
      "Acc: 0.09, Acc10: 0.28, RR: 0.14: 100%|██████████| 200/200 [00:26<00:00,  7.65it/s]\n",
      "Acc: 0.00, Acc10: 0.00, RR: 0.00:   0%|          | 1/200 [00:00<00:25,  7.88it/s]"
     ]
    },
    {
     "name": "stdout",
     "output_type": "stream",
     "text": [
      "{'b': 0.0, 'k1': 2, 'k2': 3, 'type': 'bm25'}\n",
      "  Accuracy: 0.09\n",
      "  Accuracy10: 0.28\n",
      "  RR: 0.14\n"
     ]
    },
    {
     "name": "stderr",
     "output_type": "stream",
     "text": [
      "Acc: 0.09, Acc10: 0.28, RR: 0.14: 100%|██████████| 200/200 [00:26<00:00,  7.64it/s]\n",
      "Acc: 0.00, Acc10: 0.00, RR: 0.00:   0%|          | 1/200 [00:00<00:24,  8.05it/s]"
     ]
    },
    {
     "name": "stdout",
     "output_type": "stream",
     "text": [
      "{'b': 0.0, 'k1': 2, 'k2': 4, 'type': 'bm25'}\n",
      "  Accuracy: 0.09\n",
      "  Accuracy10: 0.28\n",
      "  RR: 0.14\n"
     ]
    },
    {
     "name": "stderr",
     "output_type": "stream",
     "text": [
      "Acc: 0.09, Acc10: 0.28, RR: 0.14: 100%|██████████| 200/200 [00:26<00:00,  7.68it/s]\n",
      "Acc: 0.00, Acc10: 0.00, RR: 0.00:   0%|          | 1/200 [00:00<00:24,  8.28it/s]"
     ]
    },
    {
     "name": "stdout",
     "output_type": "stream",
     "text": [
      "{'b': 0.0, 'k1': 2, 'k2': 5, 'type': 'bm25'}\n",
      "  Accuracy: 0.09\n",
      "  Accuracy10: 0.28\n",
      "  RR: 0.14\n"
     ]
    },
    {
     "name": "stderr",
     "output_type": "stream",
     "text": [
      "Acc: 0.09, Acc10: 0.30, RR: 0.15: 100%|██████████| 200/200 [00:26<00:00,  7.64it/s]\n",
      "Acc: 0.00, Acc10: 0.00, RR: 0.00:   0%|          | 1/200 [00:00<00:24,  8.11it/s]"
     ]
    },
    {
     "name": "stdout",
     "output_type": "stream",
     "text": [
      "{'b': 0.0, 'k1': 3, 'k2': 0, 'type': 'bm25'}\n",
      "  Accuracy: 0.09\n",
      "  Accuracy10: 0.30\n",
      "  RR: 0.15\n"
     ]
    },
    {
     "name": "stderr",
     "output_type": "stream",
     "text": [
      "Acc: 0.09, Acc10: 0.31, RR: 0.15: 100%|██████████| 200/200 [00:26<00:00,  7.69it/s]\n",
      "Acc: 0.00, Acc10: 0.00, RR: 0.00:   0%|          | 1/200 [00:00<00:24,  8.28it/s]"
     ]
    },
    {
     "name": "stdout",
     "output_type": "stream",
     "text": [
      "{'b': 0.0, 'k1': 3, 'k2': 1, 'type': 'bm25'}\n",
      "  Accuracy: 0.09\n",
      "  Accuracy10: 0.31\n",
      "  RR: 0.15\n"
     ]
    },
    {
     "name": "stderr",
     "output_type": "stream",
     "text": [
      "Acc: 0.09, Acc10: 0.30, RR: 0.15: 100%|██████████| 200/200 [00:25<00:00,  7.69it/s]\n",
      "Acc: 0.00, Acc10: 0.00, RR: 0.00:   0%|          | 1/200 [00:00<00:24,  8.12it/s]"
     ]
    },
    {
     "name": "stdout",
     "output_type": "stream",
     "text": [
      "{'b': 0.0, 'k1': 3, 'k2': 2, 'type': 'bm25'}\n",
      "  Accuracy: 0.09\n",
      "  Accuracy10: 0.30\n",
      "  RR: 0.15\n"
     ]
    },
    {
     "name": "stderr",
     "output_type": "stream",
     "text": [
      "Acc: 0.09, Acc10: 0.30, RR: 0.15: 100%|██████████| 200/200 [00:26<00:00,  7.64it/s]\n",
      "Acc: 0.00, Acc10: 0.00, RR: 0.00:   0%|          | 1/200 [00:00<00:23,  8.40it/s]"
     ]
    },
    {
     "name": "stdout",
     "output_type": "stream",
     "text": [
      "{'b': 0.0, 'k1': 3, 'k2': 3, 'type': 'bm25'}\n",
      "  Accuracy: 0.09\n",
      "  Accuracy10: 0.30\n",
      "  RR: 0.15\n"
     ]
    },
    {
     "name": "stderr",
     "output_type": "stream",
     "text": [
      "Acc: 0.09, Acc10: 0.30, RR: 0.15: 100%|██████████| 200/200 [00:25<00:00,  7.72it/s]\n",
      "Acc: 0.00, Acc10: 0.00, RR: 0.00:   0%|          | 1/200 [00:00<00:24,  8.28it/s]"
     ]
    },
    {
     "name": "stdout",
     "output_type": "stream",
     "text": [
      "{'b': 0.0, 'k1': 3, 'k2': 4, 'type': 'bm25'}\n",
      "  Accuracy: 0.09\n",
      "  Accuracy10: 0.30\n",
      "  RR: 0.15\n"
     ]
    },
    {
     "name": "stderr",
     "output_type": "stream",
     "text": [
      "Acc: 0.09, Acc10: 0.30, RR: 0.15: 100%|██████████| 200/200 [00:26<00:00,  7.67it/s]\n",
      "Acc: 0.00, Acc10: 0.00, RR: 0.00:   0%|          | 1/200 [00:00<00:24,  8.10it/s]"
     ]
    },
    {
     "name": "stdout",
     "output_type": "stream",
     "text": [
      "{'b': 0.0, 'k1': 3, 'k2': 5, 'type': 'bm25'}\n",
      "  Accuracy: 0.09\n",
      "  Accuracy10: 0.30\n",
      "  RR: 0.15\n"
     ]
    },
    {
     "name": "stderr",
     "output_type": "stream",
     "text": [
      "Acc: 0.09, Acc10: 0.32, RR: 0.15: 100%|██████████| 200/200 [00:26<00:00,  7.68it/s]\n",
      "Acc: 0.00, Acc10: 0.00, RR: 0.00:   0%|          | 1/200 [00:00<00:25,  7.96it/s]"
     ]
    },
    {
     "name": "stdout",
     "output_type": "stream",
     "text": [
      "{'b': 0.0, 'k1': 4, 'k2': 0, 'type': 'bm25'}\n",
      "  Accuracy: 0.09\n",
      "  Accuracy10: 0.32\n",
      "  RR: 0.15\n"
     ]
    },
    {
     "name": "stderr",
     "output_type": "stream",
     "text": [
      "Acc: 0.09, Acc10: 0.31, RR: 0.15: 100%|██████████| 200/200 [00:26<00:00,  7.66it/s]\n",
      "Acc: 0.00, Acc10: 0.00, RR: 0.00:   0%|          | 1/200 [00:00<00:24,  8.22it/s]"
     ]
    },
    {
     "name": "stdout",
     "output_type": "stream",
     "text": [
      "{'b': 0.0, 'k1': 4, 'k2': 1, 'type': 'bm25'}\n",
      "  Accuracy: 0.09\n",
      "  Accuracy10: 0.31\n",
      "  RR: 0.15\n"
     ]
    },
    {
     "name": "stderr",
     "output_type": "stream",
     "text": [
      "Acc: 0.10, Acc10: 0.32, RR: 0.16: 100%|██████████| 200/200 [00:25<00:00,  7.71it/s]\n",
      "Acc: 0.00, Acc10: 0.00, RR: 0.00:   0%|          | 1/200 [00:00<00:24,  8.26it/s]"
     ]
    },
    {
     "name": "stdout",
     "output_type": "stream",
     "text": [
      "{'b': 0.0, 'k1': 4, 'k2': 2, 'type': 'bm25'}\n",
      "  Accuracy: 0.10\n",
      "  Accuracy10: 0.32\n",
      "  RR: 0.16\n"
     ]
    },
    {
     "name": "stderr",
     "output_type": "stream",
     "text": [
      "Acc: 0.10, Acc10: 0.30, RR: 0.16: 100%|██████████| 200/200 [00:26<00:00,  7.61it/s]\n",
      "Acc: 0.00, Acc10: 0.00, RR: 0.00:   0%|          | 1/200 [00:00<00:24,  8.04it/s]"
     ]
    },
    {
     "name": "stdout",
     "output_type": "stream",
     "text": [
      "{'b': 0.0, 'k1': 4, 'k2': 3, 'type': 'bm25'}\n",
      "  Accuracy: 0.10\n",
      "  Accuracy10: 0.30\n",
      "  RR: 0.16\n"
     ]
    },
    {
     "name": "stderr",
     "output_type": "stream",
     "text": [
      "Acc: 0.10, Acc10: 0.30, RR: 0.15: 100%|██████████| 200/200 [01:35<00:00,  2.09it/s]\n",
      "Acc: 0.00, Acc10: 0.00, RR: 0.00:   0%|          | 1/200 [00:00<00:26,  7.65it/s]"
     ]
    },
    {
     "name": "stdout",
     "output_type": "stream",
     "text": [
      "{'b': 0.0, 'k1': 4, 'k2': 4, 'type': 'bm25'}\n",
      "  Accuracy: 0.10\n",
      "  Accuracy10: 0.30\n",
      "  RR: 0.15\n"
     ]
    },
    {
     "name": "stderr",
     "output_type": "stream",
     "text": [
      "Acc: 0.10, Acc10: 0.30, RR: 0.16: 100%|██████████| 200/200 [00:26<00:00,  7.59it/s]\n",
      "Acc: 0.00, Acc10: 0.00, RR: 0.00:   0%|          | 1/200 [00:00<00:25,  7.80it/s]"
     ]
    },
    {
     "name": "stdout",
     "output_type": "stream",
     "text": [
      "{'b': 0.0, 'k1': 4, 'k2': 5, 'type': 'bm25'}\n",
      "  Accuracy: 0.10\n",
      "  Accuracy10: 0.30\n",
      "  RR: 0.16\n"
     ]
    },
    {
     "name": "stderr",
     "output_type": "stream",
     "text": [
      "Acc: 0.10, Acc10: 0.31, RR: 0.16: 100%|██████████| 200/200 [00:26<00:00,  7.60it/s]\n",
      "Acc: 0.00, Acc10: 0.00, RR: 0.00:   0%|          | 1/200 [00:00<00:26,  7.58it/s]"
     ]
    },
    {
     "name": "stdout",
     "output_type": "stream",
     "text": [
      "{'b': 0.0, 'k1': 5, 'k2': 0, 'type': 'bm25'}\n",
      "  Accuracy: 0.10\n",
      "  Accuracy10: 0.31\n",
      "  RR: 0.16\n"
     ]
    },
    {
     "name": "stderr",
     "output_type": "stream",
     "text": [
      "Acc: 0.10, Acc10: 0.32, RR: 0.16: 100%|██████████| 200/200 [00:26<00:00,  7.60it/s]\n",
      "Acc: 0.00, Acc10: 0.00, RR: 0.00:   0%|          | 1/200 [00:00<00:25,  7.72it/s]"
     ]
    },
    {
     "name": "stdout",
     "output_type": "stream",
     "text": [
      "{'b': 0.0, 'k1': 5, 'k2': 1, 'type': 'bm25'}\n",
      "  Accuracy: 0.10\n",
      "  Accuracy10: 0.32\n",
      "  RR: 0.16\n"
     ]
    },
    {
     "name": "stderr",
     "output_type": "stream",
     "text": [
      "Acc: 0.10, Acc10: 0.32, RR: 0.16: 100%|██████████| 200/200 [00:26<00:00,  7.61it/s]\n",
      "Acc: 0.00, Acc10: 0.00, RR: 0.00:   0%|          | 1/200 [00:00<00:25,  7.85it/s]"
     ]
    },
    {
     "name": "stdout",
     "output_type": "stream",
     "text": [
      "{'b': 0.0, 'k1': 5, 'k2': 2, 'type': 'bm25'}\n",
      "  Accuracy: 0.10\n",
      "  Accuracy10: 0.32\n",
      "  RR: 0.16\n"
     ]
    },
    {
     "name": "stderr",
     "output_type": "stream",
     "text": [
      "Acc: 0.10, Acc10: 0.32, RR: 0.16: 100%|██████████| 200/200 [00:26<00:00,  7.62it/s]\n",
      "Acc: 0.00, Acc10: 0.00, RR: 0.00:   0%|          | 1/200 [00:00<00:26,  7.64it/s]"
     ]
    },
    {
     "name": "stdout",
     "output_type": "stream",
     "text": [
      "{'b': 0.0, 'k1': 5, 'k2': 3, 'type': 'bm25'}\n",
      "  Accuracy: 0.10\n",
      "  Accuracy10: 0.32\n",
      "  RR: 0.16\n"
     ]
    },
    {
     "name": "stderr",
     "output_type": "stream",
     "text": [
      "Acc: 0.10, Acc10: 0.32, RR: 0.16: 100%|██████████| 200/200 [00:26<00:00,  7.58it/s]\n",
      "Acc: 0.00, Acc10: 0.00, RR: 0.00:   0%|          | 1/200 [00:00<00:26,  7.65it/s]"
     ]
    },
    {
     "name": "stdout",
     "output_type": "stream",
     "text": [
      "{'b': 0.0, 'k1': 5, 'k2': 4, 'type': 'bm25'}\n",
      "  Accuracy: 0.10\n",
      "  Accuracy10: 0.32\n",
      "  RR: 0.16\n"
     ]
    },
    {
     "name": "stderr",
     "output_type": "stream",
     "text": [
      "Acc: 0.10, Acc10: 0.32, RR: 0.16: 100%|██████████| 200/200 [00:26<00:00,  7.61it/s]\n",
      "Acc: 0.00, Acc10: 0.00, RR: 0.00:   0%|          | 1/200 [00:00<00:25,  7.74it/s]"
     ]
    },
    {
     "name": "stdout",
     "output_type": "stream",
     "text": [
      "{'b': 0.0, 'k1': 5, 'k2': 5, 'type': 'bm25'}\n",
      "  Accuracy: 0.10\n",
      "  Accuracy10: 0.32\n",
      "  RR: 0.16\n"
     ]
    },
    {
     "name": "stderr",
     "output_type": "stream",
     "text": [
      "Acc: 0.06, Acc10: 0.21, RR: 0.10: 100%|██████████| 200/200 [00:25<00:00,  7.73it/s]\n",
      "Acc: 0.00, Acc10: 0.00, RR: 0.00:   0%|          | 1/200 [00:00<00:25,  7.77it/s]"
     ]
    },
    {
     "name": "stdout",
     "output_type": "stream",
     "text": [
      "{'b': 0.25, 'k1': 0, 'k2': 0, 'type': 'bm25'}\n",
      "  Accuracy: 0.06\n",
      "  Accuracy10: 0.21\n",
      "  RR: 0.10\n"
     ]
    },
    {
     "name": "stderr",
     "output_type": "stream",
     "text": [
      "Acc: 0.06, Acc10: 0.21, RR: 0.10: 100%|██████████| 200/200 [00:25<00:00,  7.74it/s]\n",
      "Acc: 0.00, Acc10: 0.00, RR: 0.00:   0%|          | 1/200 [00:00<00:25,  7.76it/s]"
     ]
    },
    {
     "name": "stdout",
     "output_type": "stream",
     "text": [
      "{'b': 0.25, 'k1': 0, 'k2': 1, 'type': 'bm25'}\n",
      "  Accuracy: 0.06\n",
      "  Accuracy10: 0.21\n",
      "  RR: 0.10\n"
     ]
    },
    {
     "name": "stderr",
     "output_type": "stream",
     "text": [
      "Acc: 0.06, Acc10: 0.21, RR: 0.10: 100%|██████████| 200/200 [00:25<00:00,  7.72it/s]\n",
      "Acc: 0.00, Acc10: 0.00, RR: 0.00:   0%|          | 1/200 [00:00<00:25,  7.76it/s]"
     ]
    },
    {
     "name": "stdout",
     "output_type": "stream",
     "text": [
      "{'b': 0.25, 'k1': 0, 'k2': 2, 'type': 'bm25'}\n",
      "  Accuracy: 0.06\n",
      "  Accuracy10: 0.21\n",
      "  RR: 0.10\n"
     ]
    },
    {
     "name": "stderr",
     "output_type": "stream",
     "text": [
      "Acc: 0.06, Acc10: 0.21, RR: 0.10: 100%|██████████| 200/200 [00:25<00:00,  7.71it/s]\n",
      "Acc: 0.00, Acc10: 0.00, RR: 0.00:   0%|          | 1/200 [00:00<00:26,  7.55it/s]"
     ]
    },
    {
     "name": "stdout",
     "output_type": "stream",
     "text": [
      "{'b': 0.25, 'k1': 0, 'k2': 3, 'type': 'bm25'}\n",
      "  Accuracy: 0.06\n",
      "  Accuracy10: 0.21\n",
      "  RR: 0.10\n"
     ]
    },
    {
     "name": "stderr",
     "output_type": "stream",
     "text": [
      "Acc: 0.06, Acc10: 0.21, RR: 0.10: 100%|██████████| 200/200 [00:25<00:00,  7.73it/s]\n",
      "Acc: 0.00, Acc10: 0.00, RR: 0.00:   0%|          | 1/200 [00:00<00:25,  7.84it/s]"
     ]
    },
    {
     "name": "stdout",
     "output_type": "stream",
     "text": [
      "{'b': 0.25, 'k1': 0, 'k2': 4, 'type': 'bm25'}\n",
      "  Accuracy: 0.06\n",
      "  Accuracy10: 0.21\n",
      "  RR: 0.10\n"
     ]
    },
    {
     "name": "stderr",
     "output_type": "stream",
     "text": [
      "Acc: 0.06, Acc10: 0.21, RR: 0.10: 100%|██████████| 200/200 [00:26<00:00,  7.69it/s]\n",
      "Acc: 0.00, Acc10: 0.00, RR: 0.00:   0%|          | 1/200 [00:00<00:27,  7.14it/s]"
     ]
    },
    {
     "name": "stdout",
     "output_type": "stream",
     "text": [
      "{'b': 0.25, 'k1': 0, 'k2': 5, 'type': 'bm25'}\n",
      "  Accuracy: 0.06\n",
      "  Accuracy10: 0.21\n",
      "  RR: 0.10\n"
     ]
    },
    {
     "name": "stderr",
     "output_type": "stream",
     "text": [
      "Acc: 0.17, Acc10: 0.46, RR: 0.26: 100%|██████████| 200/200 [00:26<00:00,  7.60it/s]\n",
      "Acc: 0.00, Acc10: 0.00, RR: 0.00:   0%|          | 1/200 [00:00<00:26,  7.56it/s]"
     ]
    },
    {
     "name": "stdout",
     "output_type": "stream",
     "text": [
      "{'b': 0.25, 'k1': 1, 'k2': 0, 'type': 'bm25'}\n",
      "  Accuracy: 0.17\n",
      "  Accuracy10: 0.46\n",
      "  RR: 0.26\n"
     ]
    },
    {
     "name": "stderr",
     "output_type": "stream",
     "text": [
      "Acc: 0.17, Acc10: 0.44, RR: 0.26: 100%|██████████| 200/200 [00:26<00:00,  7.58it/s]\n",
      "Acc: 0.00, Acc10: 0.00, RR: 0.00:   0%|          | 1/200 [00:00<00:25,  7.89it/s]"
     ]
    },
    {
     "name": "stdout",
     "output_type": "stream",
     "text": [
      "{'b': 0.25, 'k1': 1, 'k2': 1, 'type': 'bm25'}\n",
      "  Accuracy: 0.17\n",
      "  Accuracy10: 0.44\n",
      "  RR: 0.26\n"
     ]
    },
    {
     "name": "stderr",
     "output_type": "stream",
     "text": [
      "Acc: 0.17, Acc10: 0.44, RR: 0.26: 100%|██████████| 200/200 [00:26<00:00,  7.60it/s]\n",
      "Acc: 0.00, Acc10: 0.00, RR: 0.00:   0%|          | 1/200 [00:00<00:26,  7.52it/s]"
     ]
    },
    {
     "name": "stdout",
     "output_type": "stream",
     "text": [
      "{'b': 0.25, 'k1': 1, 'k2': 2, 'type': 'bm25'}\n",
      "  Accuracy: 0.17\n",
      "  Accuracy10: 0.44\n",
      "  RR: 0.26\n"
     ]
    },
    {
     "name": "stderr",
     "output_type": "stream",
     "text": [
      "Acc: 0.17, Acc10: 0.44, RR: 0.26: 100%|██████████| 200/200 [00:26<00:00,  7.62it/s]\n",
      "Acc: 0.00, Acc10: 0.00, RR: 0.00:   0%|          | 1/200 [00:00<00:26,  7.57it/s]"
     ]
    },
    {
     "name": "stdout",
     "output_type": "stream",
     "text": [
      "{'b': 0.25, 'k1': 1, 'k2': 3, 'type': 'bm25'}\n",
      "  Accuracy: 0.17\n",
      "  Accuracy10: 0.44\n",
      "  RR: 0.26\n"
     ]
    },
    {
     "name": "stderr",
     "output_type": "stream",
     "text": [
      "Acc: 0.17, Acc10: 0.44, RR: 0.26: 100%|██████████| 200/200 [00:26<00:00,  7.56it/s]\n",
      "Acc: 0.00, Acc10: 0.00, RR: 0.00:   0%|          | 1/200 [00:00<00:26,  7.50it/s]"
     ]
    },
    {
     "name": "stdout",
     "output_type": "stream",
     "text": [
      "{'b': 0.25, 'k1': 1, 'k2': 4, 'type': 'bm25'}\n",
      "  Accuracy: 0.17\n",
      "  Accuracy10: 0.44\n",
      "  RR: 0.26\n"
     ]
    },
    {
     "name": "stderr",
     "output_type": "stream",
     "text": [
      "Acc: 0.17, Acc10: 0.44, RR: 0.26: 100%|██████████| 200/200 [00:26<00:00,  7.61it/s]\n",
      "Acc: 0.00, Acc10: 0.00, RR: 0.00:   0%|          | 1/200 [00:00<00:25,  7.92it/s]"
     ]
    },
    {
     "name": "stdout",
     "output_type": "stream",
     "text": [
      "{'b': 0.25, 'k1': 1, 'k2': 5, 'type': 'bm25'}\n",
      "  Accuracy: 0.17\n",
      "  Accuracy10: 0.44\n",
      "  RR: 0.26\n"
     ]
    },
    {
     "name": "stderr",
     "output_type": "stream",
     "text": [
      "Acc: 0.23, Acc10: 0.49, RR: 0.32: 100%|██████████| 200/200 [00:26<00:00,  7.58it/s]\n",
      "Acc: 0.00, Acc10: 0.00, RR: 0.00:   0%|          | 1/200 [00:00<00:25,  7.86it/s]"
     ]
    },
    {
     "name": "stdout",
     "output_type": "stream",
     "text": [
      "{'b': 0.25, 'k1': 2, 'k2': 0, 'type': 'bm25'}\n",
      "  Accuracy: 0.23\n",
      "  Accuracy10: 0.49\n",
      "  RR: 0.32\n"
     ]
    },
    {
     "name": "stderr",
     "output_type": "stream",
     "text": [
      "Acc: 0.23, Acc10: 0.48, RR: 0.31: 100%|██████████| 200/200 [00:26<00:00,  7.61it/s]\n",
      "Acc: 0.00, Acc10: 0.00, RR: 0.00:   0%|          | 1/200 [00:00<00:25,  7.70it/s]"
     ]
    },
    {
     "name": "stdout",
     "output_type": "stream",
     "text": [
      "{'b': 0.25, 'k1': 2, 'k2': 1, 'type': 'bm25'}\n",
      "  Accuracy: 0.23\n",
      "  Accuracy10: 0.48\n",
      "  RR: 0.31\n"
     ]
    },
    {
     "name": "stderr",
     "output_type": "stream",
     "text": [
      "Acc: 0.23, Acc10: 0.49, RR: 0.32: 100%|██████████| 200/200 [00:26<00:00,  7.58it/s]\n",
      "Acc: 0.00, Acc10: 0.00, RR: 0.00:   0%|          | 1/200 [00:00<00:25,  7.84it/s]"
     ]
    },
    {
     "name": "stdout",
     "output_type": "stream",
     "text": [
      "{'b': 0.25, 'k1': 2, 'k2': 2, 'type': 'bm25'}\n",
      "  Accuracy: 0.23\n",
      "  Accuracy10: 0.49\n",
      "  RR: 0.32\n"
     ]
    },
    {
     "name": "stderr",
     "output_type": "stream",
     "text": [
      "Acc: 0.23, Acc10: 0.49, RR: 0.31: 100%|██████████| 200/200 [00:26<00:00,  7.57it/s]\n",
      "Acc: 0.00, Acc10: 0.00, RR: 0.00:   0%|          | 1/200 [00:00<00:25,  7.88it/s]"
     ]
    },
    {
     "name": "stdout",
     "output_type": "stream",
     "text": [
      "{'b': 0.25, 'k1': 2, 'k2': 3, 'type': 'bm25'}\n",
      "  Accuracy: 0.23\n",
      "  Accuracy10: 0.49\n",
      "  RR: 0.31\n"
     ]
    },
    {
     "name": "stderr",
     "output_type": "stream",
     "text": [
      "Acc: 0.23, Acc10: 0.48, RR: 0.31: 100%|██████████| 200/200 [00:26<00:00,  7.48it/s]\n",
      "Acc: 0.00, Acc10: 0.00, RR: 0.00:   0%|          | 1/200 [00:00<00:26,  7.65it/s]"
     ]
    },
    {
     "name": "stdout",
     "output_type": "stream",
     "text": [
      "{'b': 0.25, 'k1': 2, 'k2': 4, 'type': 'bm25'}\n",
      "  Accuracy: 0.23\n",
      "  Accuracy10: 0.48\n",
      "  RR: 0.31\n"
     ]
    },
    {
     "name": "stderr",
     "output_type": "stream",
     "text": [
      "Acc: 0.23, Acc10: 0.48, RR: 0.31: 100%|██████████| 200/200 [09:38<00:00,  2.89s/it]   \n",
      "Acc: 0.00, Acc10: 0.00, RR: 0.00:   0%|          | 1/200 [00:00<00:27,  7.22it/s]"
     ]
    },
    {
     "name": "stdout",
     "output_type": "stream",
     "text": [
      "{'b': 0.25, 'k1': 2, 'k2': 5, 'type': 'bm25'}\n",
      "  Accuracy: 0.23\n",
      "  Accuracy10: 0.48\n",
      "  RR: 0.31\n"
     ]
    },
    {
     "name": "stderr",
     "output_type": "stream",
     "text": [
      "Acc: 0.25, Acc10: 0.48, RR: 0.33: 100%|██████████| 200/200 [00:27<00:00,  7.26it/s]\n",
      "Acc: 0.00, Acc10: 0.00, RR: 0.00:   0%|          | 1/200 [00:00<00:29,  6.81it/s]"
     ]
    },
    {
     "name": "stdout",
     "output_type": "stream",
     "text": [
      "{'b': 0.25, 'k1': 3, 'k2': 0, 'type': 'bm25'}\n",
      "  Accuracy: 0.25\n",
      "  Accuracy10: 0.48\n",
      "  RR: 0.33\n"
     ]
    },
    {
     "name": "stderr",
     "output_type": "stream",
     "text": [
      "Acc: 0.25, Acc10: 0.48, RR: 0.33: 100%|██████████| 200/200 [00:30<00:00,  6.53it/s]\n",
      "Acc: 0.00, Acc10: 0.00, RR: 0.00:   0%|          | 1/200 [00:00<00:28,  6.92it/s]"
     ]
    },
    {
     "name": "stdout",
     "output_type": "stream",
     "text": [
      "{'b': 0.25, 'k1': 3, 'k2': 1, 'type': 'bm25'}\n",
      "  Accuracy: 0.25\n",
      "  Accuracy10: 0.48\n",
      "  RR: 0.33\n"
     ]
    },
    {
     "name": "stderr",
     "output_type": "stream",
     "text": [
      "Acc: 0.25, Acc10: 0.48, RR: 0.33: 100%|██████████| 200/200 [00:28<00:00,  7.07it/s]\n",
      "Acc: 0.00, Acc10: 0.00, RR: 0.00:   0%|          | 1/200 [00:00<00:26,  7.53it/s]"
     ]
    },
    {
     "name": "stdout",
     "output_type": "stream",
     "text": [
      "{'b': 0.25, 'k1': 3, 'k2': 2, 'type': 'bm25'}\n",
      "  Accuracy: 0.25\n",
      "  Accuracy10: 0.48\n",
      "  RR: 0.33\n"
     ]
    },
    {
     "name": "stderr",
     "output_type": "stream",
     "text": [
      "Acc: 0.25, Acc10: 0.47, RR: 0.32: 100%|██████████| 200/200 [00:27<00:00,  7.24it/s]\n",
      "Acc: 0.00, Acc10: 0.00, RR: 0.00:   0%|          | 1/200 [00:00<00:24,  8.11it/s]"
     ]
    },
    {
     "name": "stdout",
     "output_type": "stream",
     "text": [
      "{'b': 0.25, 'k1': 3, 'k2': 3, 'type': 'bm25'}\n",
      "  Accuracy: 0.25\n",
      "  Accuracy10: 0.47\n",
      "  RR: 0.32\n"
     ]
    },
    {
     "name": "stderr",
     "output_type": "stream",
     "text": [
      "Acc: 0.25, Acc10: 0.47, RR: 0.32: 100%|██████████| 200/200 [00:29<00:00,  6.83it/s]\n",
      "Acc: 0.00, Acc10: 0.00, RR: 0.00:   0%|          | 1/200 [00:00<00:32,  6.19it/s]"
     ]
    },
    {
     "name": "stdout",
     "output_type": "stream",
     "text": [
      "{'b': 0.25, 'k1': 3, 'k2': 4, 'type': 'bm25'}\n",
      "  Accuracy: 0.25\n",
      "  Accuracy10: 0.47\n",
      "  RR: 0.32\n"
     ]
    },
    {
     "name": "stderr",
     "output_type": "stream",
     "text": [
      "Acc: 0.25, Acc10: 0.47, RR: 0.32: 100%|██████████| 200/200 [00:30<00:00,  6.58it/s]\n",
      "Acc: 0.00, Acc10: 0.00, RR: 0.00:   0%|          | 1/200 [00:00<00:24,  8.09it/s]"
     ]
    },
    {
     "name": "stdout",
     "output_type": "stream",
     "text": [
      "{'b': 0.25, 'k1': 3, 'k2': 5, 'type': 'bm25'}\n",
      "  Accuracy: 0.25\n",
      "  Accuracy10: 0.47\n",
      "  RR: 0.32\n"
     ]
    },
    {
     "name": "stderr",
     "output_type": "stream",
     "text": [
      "Acc: 0.27, Acc10: 0.49, RR: 0.33: 100%|██████████| 200/200 [00:28<00:00,  7.11it/s]\n",
      "Acc: 0.00, Acc10: 0.00, RR: 0.00:   0%|          | 1/200 [00:00<00:26,  7.59it/s]"
     ]
    },
    {
     "name": "stdout",
     "output_type": "stream",
     "text": [
      "{'b': 0.25, 'k1': 4, 'k2': 0, 'type': 'bm25'}\n",
      "  Accuracy: 0.27\n",
      "  Accuracy10: 0.49\n",
      "  RR: 0.33\n"
     ]
    },
    {
     "name": "stderr",
     "output_type": "stream",
     "text": [
      "Acc: 0.27, Acc10: 0.50, RR: 0.33: 100%|██████████| 200/200 [00:29<00:00,  6.78it/s]\n",
      "Acc: 0.00, Acc10: 0.00, RR: 0.00:   0%|          | 1/200 [00:00<00:31,  6.26it/s]"
     ]
    },
    {
     "name": "stdout",
     "output_type": "stream",
     "text": [
      "{'b': 0.25, 'k1': 4, 'k2': 1, 'type': 'bm25'}\n",
      "  Accuracy: 0.27\n",
      "  Accuracy10: 0.50\n",
      "  RR: 0.33\n"
     ]
    },
    {
     "name": "stderr",
     "output_type": "stream",
     "text": [
      "Acc: 0.27, Acc10: 0.48, RR: 0.33: 100%|██████████| 200/200 [00:28<00:00,  6.94it/s]\n",
      "Acc: 0.00, Acc10: 0.00, RR: 0.00:   0%|          | 1/200 [00:00<00:25,  7.96it/s]"
     ]
    },
    {
     "name": "stdout",
     "output_type": "stream",
     "text": [
      "{'b': 0.25, 'k1': 4, 'k2': 2, 'type': 'bm25'}\n",
      "  Accuracy: 0.27\n",
      "  Accuracy10: 0.48\n",
      "  RR: 0.33\n"
     ]
    },
    {
     "name": "stderr",
     "output_type": "stream",
     "text": [
      "Acc: 0.27, Acc10: 0.48, RR: 0.33: 100%|██████████| 200/200 [00:27<00:00,  7.30it/s]\n",
      "Acc: 0.00, Acc10: 0.00, RR: 0.00:   0%|          | 1/200 [00:00<00:24,  8.00it/s]"
     ]
    },
    {
     "name": "stdout",
     "output_type": "stream",
     "text": [
      "{'b': 0.25, 'k1': 4, 'k2': 3, 'type': 'bm25'}\n",
      "  Accuracy: 0.27\n",
      "  Accuracy10: 0.48\n",
      "  RR: 0.33\n"
     ]
    },
    {
     "name": "stderr",
     "output_type": "stream",
     "text": [
      "Acc: 0.27, Acc10: 0.48, RR: 0.33: 100%|██████████| 200/200 [00:27<00:00,  7.17it/s]\n",
      "Acc: 0.00, Acc10: 0.00, RR: 0.00:   0%|          | 1/200 [00:00<00:26,  7.45it/s]"
     ]
    },
    {
     "name": "stdout",
     "output_type": "stream",
     "text": [
      "{'b': 0.25, 'k1': 4, 'k2': 4, 'type': 'bm25'}\n",
      "  Accuracy: 0.27\n",
      "  Accuracy10: 0.48\n",
      "  RR: 0.33\n"
     ]
    },
    {
     "name": "stderr",
     "output_type": "stream",
     "text": [
      "Acc: 0.26, Acc10: 0.48, RR: 0.33: 100%|██████████| 200/200 [00:30<00:00,  6.61it/s]\n",
      "Acc: 0.00, Acc10: 0.00, RR: 0.00:   0%|          | 1/200 [00:00<00:29,  6.72it/s]"
     ]
    },
    {
     "name": "stdout",
     "output_type": "stream",
     "text": [
      "{'b': 0.25, 'k1': 4, 'k2': 5, 'type': 'bm25'}\n",
      "  Accuracy: 0.26\n",
      "  Accuracy10: 0.48\n",
      "  RR: 0.33\n"
     ]
    },
    {
     "name": "stderr",
     "output_type": "stream",
     "text": [
      "Acc: 0.27, Acc10: 0.49, RR: 0.33: 100%|██████████| 200/200 [00:29<00:00,  6.86it/s]\n",
      "Acc: 0.00, Acc10: 0.00, RR: 0.00:   0%|          | 1/200 [00:00<00:27,  7.31it/s]"
     ]
    },
    {
     "name": "stdout",
     "output_type": "stream",
     "text": [
      "{'b': 0.25, 'k1': 5, 'k2': 0, 'type': 'bm25'}\n",
      "  Accuracy: 0.27\n",
      "  Accuracy10: 0.49\n",
      "  RR: 0.33\n"
     ]
    },
    {
     "name": "stderr",
     "output_type": "stream",
     "text": [
      "Acc: 0.27, Acc10: 0.48, RR: 0.33: 100%|██████████| 200/200 [00:28<00:00,  7.07it/s]\n",
      "Acc: 0.00, Acc10: 0.00, RR: 0.00:   0%|          | 1/200 [00:00<00:26,  7.61it/s]"
     ]
    },
    {
     "name": "stdout",
     "output_type": "stream",
     "text": [
      "{'b': 0.25, 'k1': 5, 'k2': 1, 'type': 'bm25'}\n",
      "  Accuracy: 0.27\n",
      "  Accuracy10: 0.48\n",
      "  RR: 0.33\n"
     ]
    },
    {
     "name": "stderr",
     "output_type": "stream",
     "text": [
      "Acc: 0.27, Acc10: 0.47, RR: 0.33: 100%|██████████| 200/200 [00:27<00:00,  7.25it/s]\n",
      "Acc: 0.00, Acc10: 0.00, RR: 0.00:   0%|          | 1/200 [00:00<00:26,  7.38it/s]"
     ]
    },
    {
     "name": "stdout",
     "output_type": "stream",
     "text": [
      "{'b': 0.25, 'k1': 5, 'k2': 2, 'type': 'bm25'}\n",
      "  Accuracy: 0.27\n",
      "  Accuracy10: 0.47\n",
      "  RR: 0.33\n"
     ]
    },
    {
     "name": "stderr",
     "output_type": "stream",
     "text": [
      "Acc: 0.27, Acc10: 0.47, RR: 0.33: 100%|██████████| 200/200 [00:27<00:00,  7.24it/s]\n",
      "Acc: 0.00, Acc10: 0.00, RR: 0.00:   0%|          | 1/200 [00:00<00:27,  7.19it/s]"
     ]
    },
    {
     "name": "stdout",
     "output_type": "stream",
     "text": [
      "{'b': 0.25, 'k1': 5, 'k2': 3, 'type': 'bm25'}\n",
      "  Accuracy: 0.27\n",
      "  Accuracy10: 0.47\n",
      "  RR: 0.33\n"
     ]
    },
    {
     "name": "stderr",
     "output_type": "stream",
     "text": [
      "Acc: 0.27, Acc10: 0.47, RR: 0.33: 100%|██████████| 200/200 [00:27<00:00,  7.29it/s]\n",
      "Acc: 0.00, Acc10: 0.00, RR: 0.00:   0%|          | 1/200 [00:00<00:26,  7.59it/s]"
     ]
    },
    {
     "name": "stdout",
     "output_type": "stream",
     "text": [
      "{'b': 0.25, 'k1': 5, 'k2': 4, 'type': 'bm25'}\n",
      "  Accuracy: 0.27\n",
      "  Accuracy10: 0.47\n",
      "  RR: 0.33\n"
     ]
    },
    {
     "name": "stderr",
     "output_type": "stream",
     "text": [
      "Acc: 0.27, Acc10: 0.47, RR: 0.33: 100%|██████████| 200/200 [00:27<00:00,  7.21it/s]\n",
      "Acc: 0.00, Acc10: 0.00, RR: 0.00:   0%|          | 1/200 [00:00<00:27,  7.22it/s]"
     ]
    },
    {
     "name": "stdout",
     "output_type": "stream",
     "text": [
      "{'b': 0.25, 'k1': 5, 'k2': 5, 'type': 'bm25'}\n",
      "  Accuracy: 0.27\n",
      "  Accuracy10: 0.47\n",
      "  RR: 0.33\n"
     ]
    },
    {
     "name": "stderr",
     "output_type": "stream",
     "text": [
      "Acc: 0.06, Acc10: 0.21, RR: 0.10: 100%|██████████| 200/200 [00:27<00:00,  7.35it/s]\n",
      "Acc: 0.00, Acc10: 0.00, RR: 0.00:   0%|          | 1/200 [00:00<00:25,  7.78it/s]"
     ]
    },
    {
     "name": "stdout",
     "output_type": "stream",
     "text": [
      "{'b': 0.5, 'k1': 0, 'k2': 0, 'type': 'bm25'}\n",
      "  Accuracy: 0.06\n",
      "  Accuracy10: 0.21\n",
      "  RR: 0.10\n"
     ]
    },
    {
     "name": "stderr",
     "output_type": "stream",
     "text": [
      "Acc: 0.06, Acc10: 0.21, RR: 0.10: 100%|██████████| 200/200 [00:27<00:00,  7.33it/s]\n",
      "Acc: 0.00, Acc10: 0.00, RR: 0.00:   0%|          | 1/200 [00:00<00:25,  7.86it/s]"
     ]
    },
    {
     "name": "stdout",
     "output_type": "stream",
     "text": [
      "{'b': 0.5, 'k1': 0, 'k2': 1, 'type': 'bm25'}\n",
      "  Accuracy: 0.06\n",
      "  Accuracy10: 0.21\n",
      "  RR: 0.10\n"
     ]
    },
    {
     "name": "stderr",
     "output_type": "stream",
     "text": [
      "Acc: 0.06, Acc10: 0.21, RR: 0.10: 100%|██████████| 200/200 [00:27<00:00,  7.41it/s]\n",
      "Acc: 0.00, Acc10: 0.00, RR: 0.00:   0%|          | 1/200 [00:00<00:25,  7.76it/s]"
     ]
    },
    {
     "name": "stdout",
     "output_type": "stream",
     "text": [
      "{'b': 0.5, 'k1': 0, 'k2': 2, 'type': 'bm25'}\n",
      "  Accuracy: 0.06\n",
      "  Accuracy10: 0.21\n",
      "  RR: 0.10\n"
     ]
    },
    {
     "name": "stderr",
     "output_type": "stream",
     "text": [
      "Acc: 0.06, Acc10: 0.21, RR: 0.10: 100%|██████████| 200/200 [00:29<00:00,  6.72it/s]\n",
      "Acc: 0.00, Acc10: 0.00, RR: 0.00:   0%|          | 1/200 [00:00<00:25,  7.75it/s]"
     ]
    },
    {
     "name": "stdout",
     "output_type": "stream",
     "text": [
      "{'b': 0.5, 'k1': 0, 'k2': 3, 'type': 'bm25'}\n",
      "  Accuracy: 0.06\n",
      "  Accuracy10: 0.21\n",
      "  RR: 0.10\n"
     ]
    },
    {
     "name": "stderr",
     "output_type": "stream",
     "text": [
      "Acc: 0.06, Acc10: 0.21, RR: 0.10: 100%|██████████| 200/200 [00:27<00:00,  7.20it/s]\n",
      "Acc: 0.00, Acc10: 0.00, RR: 0.00:   0%|          | 1/200 [00:00<00:26,  7.52it/s]"
     ]
    },
    {
     "name": "stdout",
     "output_type": "stream",
     "text": [
      "{'b': 0.5, 'k1': 0, 'k2': 4, 'type': 'bm25'}\n",
      "  Accuracy: 0.06\n",
      "  Accuracy10: 0.21\n",
      "  RR: 0.10\n"
     ]
    },
    {
     "name": "stderr",
     "output_type": "stream",
     "text": [
      "Acc: 0.06, Acc10: 0.21, RR: 0.10: 100%|██████████| 200/200 [00:27<00:00,  7.16it/s]\n",
      "Acc: 0.00, Acc10: 0.00, RR: 0.00:   0%|          | 1/200 [00:00<00:26,  7.40it/s]"
     ]
    },
    {
     "name": "stdout",
     "output_type": "stream",
     "text": [
      "{'b': 0.5, 'k1': 0, 'k2': 5, 'type': 'bm25'}\n",
      "  Accuracy: 0.06\n",
      "  Accuracy10: 0.21\n",
      "  RR: 0.10\n"
     ]
    },
    {
     "name": "stderr",
     "output_type": "stream",
     "text": [
      "Acc: 0.20, Acc10: 0.49, RR: 0.30: 100%|██████████| 200/200 [00:27<00:00,  7.35it/s]\n",
      "Acc: 0.00, Acc10: 0.00, RR: 0.00:   0%|          | 1/200 [00:00<00:25,  7.77it/s]"
     ]
    },
    {
     "name": "stdout",
     "output_type": "stream",
     "text": [
      "{'b': 0.5, 'k1': 1, 'k2': 0, 'type': 'bm25'}\n",
      "  Accuracy: 0.20\n",
      "  Accuracy10: 0.49\n",
      "  RR: 0.30\n"
     ]
    },
    {
     "name": "stderr",
     "output_type": "stream",
     "text": [
      "Acc: 0.20, Acc10: 0.49, RR: 0.30: 100%|██████████| 200/200 [00:27<00:00,  7.36it/s]\n",
      "Acc: 0.00, Acc10: 0.00, RR: 0.00:   0%|          | 1/200 [00:00<00:25,  7.84it/s]"
     ]
    },
    {
     "name": "stdout",
     "output_type": "stream",
     "text": [
      "{'b': 0.5, 'k1': 1, 'k2': 1, 'type': 'bm25'}\n",
      "  Accuracy: 0.20\n",
      "  Accuracy10: 0.49\n",
      "  RR: 0.30\n"
     ]
    },
    {
     "name": "stderr",
     "output_type": "stream",
     "text": [
      "Acc: 0.20, Acc10: 0.48, RR: 0.30: 100%|██████████| 200/200 [00:27<00:00,  7.30it/s]\n",
      "Acc: 0.00, Acc10: 0.00, RR: 0.00:   0%|          | 1/200 [00:00<00:26,  7.51it/s]"
     ]
    },
    {
     "name": "stdout",
     "output_type": "stream",
     "text": [
      "{'b': 0.5, 'k1': 1, 'k2': 2, 'type': 'bm25'}\n",
      "  Accuracy: 0.20\n",
      "  Accuracy10: 0.48\n",
      "  RR: 0.30\n"
     ]
    },
    {
     "name": "stderr",
     "output_type": "stream",
     "text": [
      "Acc: 0.20, Acc10: 0.48, RR: 0.30: 100%|██████████| 200/200 [00:28<00:00,  6.96it/s]\n",
      "Acc: 0.00, Acc10: 0.00, RR: 0.00:   0%|          | 1/200 [00:00<00:25,  7.74it/s]"
     ]
    },
    {
     "name": "stdout",
     "output_type": "stream",
     "text": [
      "{'b': 0.5, 'k1': 1, 'k2': 3, 'type': 'bm25'}\n",
      "  Accuracy: 0.20\n",
      "  Accuracy10: 0.48\n",
      "  RR: 0.30\n"
     ]
    },
    {
     "name": "stderr",
     "output_type": "stream",
     "text": [
      "Acc: 0.20, Acc10: 0.48, RR: 0.29: 100%|██████████| 200/200 [00:28<00:00,  6.93it/s]\n",
      "Acc: 0.00, Acc10: 0.00, RR: 0.00:   0%|          | 1/200 [00:00<00:28,  7.04it/s]"
     ]
    },
    {
     "name": "stdout",
     "output_type": "stream",
     "text": [
      "{'b': 0.5, 'k1': 1, 'k2': 4, 'type': 'bm25'}\n",
      "  Accuracy: 0.20\n",
      "  Accuracy10: 0.48\n",
      "  RR: 0.29\n"
     ]
    },
    {
     "name": "stderr",
     "output_type": "stream",
     "text": [
      "Acc: 0.20, Acc10: 0.48, RR: 0.29: 100%|██████████| 200/200 [00:27<00:00,  7.31it/s]\n",
      "Acc: 0.00, Acc10: 0.00, RR: 0.00:   0%|          | 1/200 [00:00<00:26,  7.65it/s]"
     ]
    },
    {
     "name": "stdout",
     "output_type": "stream",
     "text": [
      "{'b': 0.5, 'k1': 1, 'k2': 5, 'type': 'bm25'}\n",
      "  Accuracy: 0.20\n",
      "  Accuracy10: 0.48\n",
      "  RR: 0.29\n"
     ]
    },
    {
     "name": "stderr",
     "output_type": "stream",
     "text": [
      "Acc: 0.26, Acc10: 0.52, RR: 0.34: 100%|██████████| 200/200 [00:27<00:00,  7.30it/s]\n",
      "Acc: 0.00, Acc10: 0.00, RR: 0.00:   0%|          | 1/200 [00:00<00:25,  7.71it/s]"
     ]
    },
    {
     "name": "stdout",
     "output_type": "stream",
     "text": [
      "{'b': 0.5, 'k1': 2, 'k2': 0, 'type': 'bm25'}\n",
      "  Accuracy: 0.26\n",
      "  Accuracy10: 0.52\n",
      "  RR: 0.34\n"
     ]
    },
    {
     "name": "stderr",
     "output_type": "stream",
     "text": [
      "Acc: 0.26, Acc10: 0.51, RR: 0.34: 100%|██████████| 200/200 [00:27<00:00,  7.27it/s]\n",
      "Acc: 0.00, Acc10: 0.00, RR: 0.00:   0%|          | 1/200 [00:00<00:27,  7.25it/s]"
     ]
    },
    {
     "name": "stdout",
     "output_type": "stream",
     "text": [
      "{'b': 0.5, 'k1': 2, 'k2': 1, 'type': 'bm25'}\n",
      "  Accuracy: 0.26\n",
      "  Accuracy10: 0.51\n",
      "  RR: 0.34\n"
     ]
    },
    {
     "name": "stderr",
     "output_type": "stream",
     "text": [
      "Acc: 0.26, Acc10: 0.51, RR: 0.34: 100%|██████████| 200/200 [00:27<00:00,  7.27it/s]\n",
      "Acc: 0.00, Acc10: 0.00, RR: 0.00:   0%|          | 1/200 [00:00<00:28,  6.96it/s]"
     ]
    },
    {
     "name": "stdout",
     "output_type": "stream",
     "text": [
      "{'b': 0.5, 'k1': 2, 'k2': 2, 'type': 'bm25'}\n",
      "  Accuracy: 0.26\n",
      "  Accuracy10: 0.51\n",
      "  RR: 0.34\n"
     ]
    },
    {
     "name": "stderr",
     "output_type": "stream",
     "text": [
      "Acc: 0.26, Acc10: 0.52, RR: 0.34: 100%|██████████| 200/200 [00:27<00:00,  7.28it/s]\n",
      "Acc: 0.00, Acc10: 0.00, RR: 0.00:   0%|          | 1/200 [00:00<00:25,  7.96it/s]"
     ]
    },
    {
     "name": "stdout",
     "output_type": "stream",
     "text": [
      "{'b': 0.5, 'k1': 2, 'k2': 3, 'type': 'bm25'}\n",
      "  Accuracy: 0.26\n",
      "  Accuracy10: 0.52\n",
      "  RR: 0.34\n"
     ]
    },
    {
     "name": "stderr",
     "output_type": "stream",
     "text": [
      "Acc: 0.25, Acc10: 0.52, RR: 0.34: 100%|██████████| 200/200 [00:27<00:00,  7.26it/s]\n",
      "Acc: 0.00, Acc10: 0.00, RR: 0.00:   0%|          | 1/200 [00:00<00:25,  7.85it/s]"
     ]
    },
    {
     "name": "stdout",
     "output_type": "stream",
     "text": [
      "{'b': 0.5, 'k1': 2, 'k2': 4, 'type': 'bm25'}\n",
      "  Accuracy: 0.25\n",
      "  Accuracy10: 0.52\n",
      "  RR: 0.34\n"
     ]
    },
    {
     "name": "stderr",
     "output_type": "stream",
     "text": [
      "Acc: 0.25, Acc10: 0.52, RR: 0.33: 100%|██████████| 200/200 [00:27<00:00,  7.25it/s]\n",
      "Acc: 0.00, Acc10: 0.00, RR: 0.00:   0%|          | 1/200 [00:00<00:26,  7.60it/s]"
     ]
    },
    {
     "name": "stdout",
     "output_type": "stream",
     "text": [
      "{'b': 0.5, 'k1': 2, 'k2': 5, 'type': 'bm25'}\n",
      "  Accuracy: 0.25\n",
      "  Accuracy10: 0.52\n",
      "  RR: 0.33\n"
     ]
    },
    {
     "name": "stderr",
     "output_type": "stream",
     "text": [
      "Acc: 0.28, Acc10: 0.51, RR: 0.36: 100%|██████████| 200/200 [00:27<00:00,  7.28it/s]\n",
      "Acc: 0.00, Acc10: 0.00, RR: 0.00:   0%|          | 1/200 [00:00<00:25,  7.84it/s]"
     ]
    },
    {
     "name": "stdout",
     "output_type": "stream",
     "text": [
      "{'b': 0.5, 'k1': 3, 'k2': 0, 'type': 'bm25'}\n",
      "  Accuracy: 0.28\n",
      "  Accuracy10: 0.51\n",
      "  RR: 0.36\n"
     ]
    },
    {
     "name": "stderr",
     "output_type": "stream",
     "text": [
      "Acc: 0.28, Acc10: 0.51, RR: 0.35: 100%|██████████| 200/200 [00:27<00:00,  7.25it/s]\n",
      "Acc: 0.00, Acc10: 0.00, RR: 0.00:   0%|          | 1/200 [00:00<00:25,  7.81it/s]"
     ]
    },
    {
     "name": "stdout",
     "output_type": "stream",
     "text": [
      "{'b': 0.5, 'k1': 3, 'k2': 1, 'type': 'bm25'}\n",
      "  Accuracy: 0.28\n",
      "  Accuracy10: 0.51\n",
      "  RR: 0.35\n"
     ]
    },
    {
     "name": "stderr",
     "output_type": "stream",
     "text": [
      "Acc: 0.27, Acc10: 0.51, RR: 0.35: 100%|██████████| 200/200 [00:27<00:00,  7.27it/s]\n",
      "Acc: 0.00, Acc10: 0.00, RR: 0.00:   0%|          | 1/200 [00:00<00:26,  7.40it/s]"
     ]
    },
    {
     "name": "stdout",
     "output_type": "stream",
     "text": [
      "{'b': 0.5, 'k1': 3, 'k2': 2, 'type': 'bm25'}\n",
      "  Accuracy: 0.27\n",
      "  Accuracy10: 0.51\n",
      "  RR: 0.35\n"
     ]
    },
    {
     "name": "stderr",
     "output_type": "stream",
     "text": [
      "Acc: 0.27, Acc10: 0.51, RR: 0.35: 100%|██████████| 200/200 [00:27<00:00,  7.27it/s]\n",
      "Acc: 0.00, Acc10: 0.00, RR: 0.00:   0%|          | 1/200 [00:00<00:27,  7.34it/s]"
     ]
    },
    {
     "name": "stdout",
     "output_type": "stream",
     "text": [
      "{'b': 0.5, 'k1': 3, 'k2': 3, 'type': 'bm25'}\n",
      "  Accuracy: 0.27\n",
      "  Accuracy10: 0.51\n",
      "  RR: 0.35\n"
     ]
    },
    {
     "name": "stderr",
     "output_type": "stream",
     "text": [
      "Acc: 0.27, Acc10: 0.51, RR: 0.34: 100%|██████████| 200/200 [00:27<00:00,  7.28it/s]\n",
      "Acc: 0.00, Acc10: 0.00, RR: 0.00:   0%|          | 1/200 [00:00<00:24,  8.00it/s]"
     ]
    },
    {
     "name": "stdout",
     "output_type": "stream",
     "text": [
      "{'b': 0.5, 'k1': 3, 'k2': 4, 'type': 'bm25'}\n",
      "  Accuracy: 0.27\n",
      "  Accuracy10: 0.51\n",
      "  RR: 0.34\n"
     ]
    },
    {
     "name": "stderr",
     "output_type": "stream",
     "text": [
      "Acc: 0.27, Acc10: 0.50, RR: 0.34: 100%|██████████| 200/200 [00:27<00:00,  7.29it/s]\n",
      "Acc: 0.00, Acc10: 0.00, RR: 0.00:   0%|          | 1/200 [00:00<00:26,  7.64it/s]"
     ]
    },
    {
     "name": "stdout",
     "output_type": "stream",
     "text": [
      "{'b': 0.5, 'k1': 3, 'k2': 5, 'type': 'bm25'}\n",
      "  Accuracy: 0.27\n",
      "  Accuracy10: 0.50\n",
      "  RR: 0.34\n"
     ]
    },
    {
     "name": "stderr",
     "output_type": "stream",
     "text": [
      "Acc: 0.28, Acc10: 0.52, RR: 0.36: 100%|██████████| 200/200 [00:27<00:00,  7.31it/s]\n",
      "Acc: 0.00, Acc10: 0.00, RR: 0.00:   0%|          | 1/200 [00:00<00:27,  7.31it/s]"
     ]
    },
    {
     "name": "stdout",
     "output_type": "stream",
     "text": [
      "{'b': 0.5, 'k1': 4, 'k2': 0, 'type': 'bm25'}\n",
      "  Accuracy: 0.28\n",
      "  Accuracy10: 0.52\n",
      "  RR: 0.36\n"
     ]
    },
    {
     "name": "stderr",
     "output_type": "stream",
     "text": [
      "Acc: 0.27, Acc10: 0.51, RR: 0.35: 100%|██████████| 200/200 [00:27<00:00,  7.28it/s]\n",
      "Acc: 0.00, Acc10: 0.00, RR: 0.00:   0%|          | 1/200 [00:00<00:26,  7.43it/s]"
     ]
    },
    {
     "name": "stdout",
     "output_type": "stream",
     "text": [
      "{'b': 0.5, 'k1': 4, 'k2': 1, 'type': 'bm25'}\n",
      "  Accuracy: 0.27\n",
      "  Accuracy10: 0.51\n",
      "  RR: 0.35\n"
     ]
    },
    {
     "name": "stderr",
     "output_type": "stream",
     "text": [
      "Acc: 0.27, Acc10: 0.49, RR: 0.35: 100%|██████████| 200/200 [00:27<00:00,  7.26it/s]\n",
      "Acc: 0.00, Acc10: 0.00, RR: 0.00:   0%|          | 1/200 [00:00<00:25,  7.83it/s]"
     ]
    },
    {
     "name": "stdout",
     "output_type": "stream",
     "text": [
      "{'b': 0.5, 'k1': 4, 'k2': 2, 'type': 'bm25'}\n",
      "  Accuracy: 0.27\n",
      "  Accuracy10: 0.49\n",
      "  RR: 0.35\n"
     ]
    },
    {
     "name": "stderr",
     "output_type": "stream",
     "text": [
      "Acc: 0.27, Acc10: 0.49, RR: 0.34: 100%|██████████| 200/200 [00:28<00:00,  7.07it/s]\n",
      "Acc: 0.00, Acc10: 0.00, RR: 0.00:   0%|          | 1/200 [00:00<00:26,  7.45it/s]"
     ]
    },
    {
     "name": "stdout",
     "output_type": "stream",
     "text": [
      "{'b': 0.5, 'k1': 4, 'k2': 3, 'type': 'bm25'}\n",
      "  Accuracy: 0.27\n",
      "  Accuracy10: 0.49\n",
      "  RR: 0.34\n"
     ]
    },
    {
     "name": "stderr",
     "output_type": "stream",
     "text": [
      "Acc: 0.27, Acc10: 0.49, RR: 0.34: 100%|██████████| 200/200 [00:27<00:00,  7.24it/s]\n",
      "Acc: 0.00, Acc10: 0.00, RR: 0.00:   0%|          | 1/200 [00:00<00:25,  7.71it/s]"
     ]
    },
    {
     "name": "stdout",
     "output_type": "stream",
     "text": [
      "{'b': 0.5, 'k1': 4, 'k2': 4, 'type': 'bm25'}\n",
      "  Accuracy: 0.27\n",
      "  Accuracy10: 0.49\n",
      "  RR: 0.34\n"
     ]
    },
    {
     "name": "stderr",
     "output_type": "stream",
     "text": [
      "Acc: 0.27, Acc10: 0.48, RR: 0.34: 100%|██████████| 200/200 [00:27<00:00,  7.22it/s]\n",
      "Acc: 0.00, Acc10: 0.00, RR: 0.00:   0%|          | 1/200 [00:00<00:28,  7.08it/s]"
     ]
    },
    {
     "name": "stdout",
     "output_type": "stream",
     "text": [
      "{'b': 0.5, 'k1': 4, 'k2': 5, 'type': 'bm25'}\n",
      "  Accuracy: 0.27\n",
      "  Accuracy10: 0.48\n",
      "  RR: 0.34\n"
     ]
    },
    {
     "name": "stderr",
     "output_type": "stream",
     "text": [
      "Acc: 0.28, Acc10: 0.50, RR: 0.36: 100%|██████████| 200/200 [00:27<00:00,  7.20it/s]\n",
      "Acc: 0.00, Acc10: 0.00, RR: 0.00:   0%|          | 1/200 [00:00<00:28,  6.97it/s]"
     ]
    },
    {
     "name": "stdout",
     "output_type": "stream",
     "text": [
      "{'b': 0.5, 'k1': 5, 'k2': 0, 'type': 'bm25'}\n",
      "  Accuracy: 0.28\n",
      "  Accuracy10: 0.50\n",
      "  RR: 0.36\n"
     ]
    },
    {
     "name": "stderr",
     "output_type": "stream",
     "text": [
      "Acc: 0.28, Acc10: 0.48, RR: 0.35: 100%|██████████| 200/200 [00:27<00:00,  7.20it/s]\n",
      "Acc: 0.00, Acc10: 0.00, RR: 0.00:   0%|          | 1/200 [00:00<00:26,  7.64it/s]"
     ]
    },
    {
     "name": "stdout",
     "output_type": "stream",
     "text": [
      "{'b': 0.5, 'k1': 5, 'k2': 1, 'type': 'bm25'}\n",
      "  Accuracy: 0.28\n",
      "  Accuracy10: 0.48\n",
      "  RR: 0.35\n"
     ]
    },
    {
     "name": "stderr",
     "output_type": "stream",
     "text": [
      "Acc: 0.28, Acc10: 0.48, RR: 0.35: 100%|██████████| 200/200 [00:27<00:00,  7.20it/s]\n",
      "Acc: 0.00, Acc10: 0.00, RR: 0.00:   0%|          | 1/200 [00:00<00:28,  7.06it/s]"
     ]
    },
    {
     "name": "stdout",
     "output_type": "stream",
     "text": [
      "{'b': 0.5, 'k1': 5, 'k2': 2, 'type': 'bm25'}\n",
      "  Accuracy: 0.28\n",
      "  Accuracy10: 0.48\n",
      "  RR: 0.35\n"
     ]
    },
    {
     "name": "stderr",
     "output_type": "stream",
     "text": [
      "Acc: 0.27, Acc10: 0.48, RR: 0.34: 100%|██████████| 200/200 [00:27<00:00,  7.18it/s]\n",
      "Acc: 0.00, Acc10: 0.00, RR: 0.00:   0%|          | 1/200 [00:00<00:24,  8.13it/s]"
     ]
    },
    {
     "name": "stdout",
     "output_type": "stream",
     "text": [
      "{'b': 0.5, 'k1': 5, 'k2': 3, 'type': 'bm25'}\n",
      "  Accuracy: 0.27\n",
      "  Accuracy10: 0.48\n",
      "  RR: 0.34\n"
     ]
    },
    {
     "name": "stderr",
     "output_type": "stream",
     "text": [
      "Acc: 0.27, Acc10: 0.47, RR: 0.34: 100%|██████████| 200/200 [00:27<00:00,  7.18it/s]\n",
      "Acc: 0.00, Acc10: 0.00, RR: 0.00:   0%|          | 1/200 [00:00<00:25,  7.77it/s]"
     ]
    },
    {
     "name": "stdout",
     "output_type": "stream",
     "text": [
      "{'b': 0.5, 'k1': 5, 'k2': 4, 'type': 'bm25'}\n",
      "  Accuracy: 0.27\n",
      "  Accuracy10: 0.47\n",
      "  RR: 0.34\n"
     ]
    },
    {
     "name": "stderr",
     "output_type": "stream",
     "text": [
      "Acc: 0.27, Acc10: 0.47, RR: 0.34: 100%|██████████| 200/200 [00:27<00:00,  7.20it/s]\n",
      "Acc: 0.00, Acc10: 0.00, RR: 0.00:   0%|          | 1/200 [00:00<00:26,  7.38it/s]"
     ]
    },
    {
     "name": "stdout",
     "output_type": "stream",
     "text": [
      "{'b': 0.5, 'k1': 5, 'k2': 5, 'type': 'bm25'}\n",
      "  Accuracy: 0.27\n",
      "  Accuracy10: 0.47\n",
      "  RR: 0.34\n"
     ]
    },
    {
     "name": "stderr",
     "output_type": "stream",
     "text": [
      "Acc: 0.06, Acc10: 0.21, RR: 0.10: 100%|██████████| 200/200 [00:27<00:00,  7.26it/s]\n",
      "Acc: 0.00, Acc10: 0.00, RR: 0.00:   0%|          | 1/200 [00:00<00:25,  7.68it/s]"
     ]
    },
    {
     "name": "stdout",
     "output_type": "stream",
     "text": [
      "{'b': 0.75, 'k1': 0, 'k2': 0, 'type': 'bm25'}\n",
      "  Accuracy: 0.06\n",
      "  Accuracy10: 0.21\n",
      "  RR: 0.10\n"
     ]
    },
    {
     "name": "stderr",
     "output_type": "stream",
     "text": [
      "Acc: 0.06, Acc10: 0.21, RR: 0.10: 100%|██████████| 200/200 [00:27<00:00,  7.24it/s]\n",
      "Acc: 0.00, Acc10: 0.00, RR: 0.00:   0%|          | 1/200 [00:00<00:26,  7.65it/s]"
     ]
    },
    {
     "name": "stdout",
     "output_type": "stream",
     "text": [
      "{'b': 0.75, 'k1': 0, 'k2': 1, 'type': 'bm25'}\n",
      "  Accuracy: 0.06\n",
      "  Accuracy10: 0.21\n",
      "  RR: 0.10\n"
     ]
    },
    {
     "name": "stderr",
     "output_type": "stream",
     "text": [
      "Acc: 0.06, Acc10: 0.21, RR: 0.10: 100%|██████████| 200/200 [00:28<00:00,  6.92it/s]\n",
      "Acc: 0.00, Acc10: 0.00, RR: 0.00:   0%|          | 1/200 [00:00<00:27,  7.24it/s]"
     ]
    },
    {
     "name": "stdout",
     "output_type": "stream",
     "text": [
      "{'b': 0.75, 'k1': 0, 'k2': 2, 'type': 'bm25'}\n",
      "  Accuracy: 0.06\n",
      "  Accuracy10: 0.21\n",
      "  RR: 0.10\n"
     ]
    },
    {
     "name": "stderr",
     "output_type": "stream",
     "text": [
      "Acc: 0.06, Acc10: 0.21, RR: 0.10: 100%|██████████| 200/200 [00:28<00:00,  7.07it/s]\n",
      "Acc: 0.00, Acc10: 0.00, RR: 0.00:   0%|          | 1/200 [00:00<00:27,  7.30it/s]"
     ]
    },
    {
     "name": "stdout",
     "output_type": "stream",
     "text": [
      "{'b': 0.75, 'k1': 0, 'k2': 3, 'type': 'bm25'}\n",
      "  Accuracy: 0.06\n",
      "  Accuracy10: 0.21\n",
      "  RR: 0.10\n"
     ]
    },
    {
     "name": "stderr",
     "output_type": "stream",
     "text": [
      "Acc: 0.06, Acc10: 0.21, RR: 0.10: 100%|██████████| 200/200 [00:28<00:00,  7.14it/s]\n",
      "Acc: 0.00, Acc10: 0.00, RR: 0.00:   0%|          | 1/200 [00:00<00:25,  7.67it/s]"
     ]
    },
    {
     "name": "stdout",
     "output_type": "stream",
     "text": [
      "{'b': 0.75, 'k1': 0, 'k2': 4, 'type': 'bm25'}\n",
      "  Accuracy: 0.06\n",
      "  Accuracy10: 0.21\n",
      "  RR: 0.10\n"
     ]
    },
    {
     "name": "stderr",
     "output_type": "stream",
     "text": [
      "Acc: 0.06, Acc10: 0.21, RR: 0.10: 100%|██████████| 200/200 [00:27<00:00,  7.18it/s]\n",
      "Acc: 0.00, Acc10: 0.00, RR: 0.00:   0%|          | 1/200 [00:00<00:26,  7.46it/s]"
     ]
    },
    {
     "name": "stdout",
     "output_type": "stream",
     "text": [
      "{'b': 0.75, 'k1': 0, 'k2': 5, 'type': 'bm25'}\n",
      "  Accuracy: 0.06\n",
      "  Accuracy10: 0.21\n",
      "  RR: 0.10\n"
     ]
    },
    {
     "name": "stderr",
     "output_type": "stream",
     "text": [
      "Acc: 0.21, Acc10: 0.49, RR: 0.30: 100%|██████████| 200/200 [00:28<00:00,  7.05it/s]\n",
      "Acc: 0.00, Acc10: 0.00, RR: 0.00:   0%|          | 1/200 [00:00<00:26,  7.39it/s]"
     ]
    },
    {
     "name": "stdout",
     "output_type": "stream",
     "text": [
      "{'b': 0.75, 'k1': 1, 'k2': 0, 'type': 'bm25'}\n",
      "  Accuracy: 0.21\n",
      "  Accuracy10: 0.49\n",
      "  RR: 0.30\n"
     ]
    },
    {
     "name": "stderr",
     "output_type": "stream",
     "text": [
      "Acc: 0.21, Acc10: 0.49, RR: 0.30: 100%|██████████| 200/200 [00:28<00:00,  7.04it/s]\n",
      "Acc: 0.00, Acc10: 0.00, RR: 0.00:   0%|          | 1/200 [00:00<00:25,  7.76it/s]"
     ]
    },
    {
     "name": "stdout",
     "output_type": "stream",
     "text": [
      "{'b': 0.75, 'k1': 1, 'k2': 1, 'type': 'bm25'}\n",
      "  Accuracy: 0.21\n",
      "  Accuracy10: 0.49\n",
      "  RR: 0.30\n"
     ]
    },
    {
     "name": "stderr",
     "output_type": "stream",
     "text": [
      "Acc: 0.21, Acc10: 0.49, RR: 0.30: 100%|██████████| 200/200 [00:28<00:00,  7.12it/s]\n",
      "Acc: 0.00, Acc10: 0.00, RR: 0.00:   0%|          | 1/200 [00:00<00:27,  7.17it/s]"
     ]
    },
    {
     "name": "stdout",
     "output_type": "stream",
     "text": [
      "{'b': 0.75, 'k1': 1, 'k2': 2, 'type': 'bm25'}\n",
      "  Accuracy: 0.21\n",
      "  Accuracy10: 0.49\n",
      "  RR: 0.30\n"
     ]
    },
    {
     "name": "stderr",
     "output_type": "stream",
     "text": [
      "Acc: 0.21, Acc10: 0.49, RR: 0.30: 100%|██████████| 200/200 [00:28<00:00,  7.06it/s]\n",
      "Acc: 0.00, Acc10: 0.00, RR: 0.00:   0%|          | 1/200 [00:00<00:26,  7.39it/s]"
     ]
    },
    {
     "name": "stdout",
     "output_type": "stream",
     "text": [
      "{'b': 0.75, 'k1': 1, 'k2': 3, 'type': 'bm25'}\n",
      "  Accuracy: 0.21\n",
      "  Accuracy10: 0.49\n",
      "  RR: 0.30\n"
     ]
    },
    {
     "name": "stderr",
     "output_type": "stream",
     "text": [
      "Acc: 0.20, Acc10: 0.49, RR: 0.29: 100%|██████████| 200/200 [00:28<00:00,  7.01it/s]\n",
      "Acc: 0.00, Acc10: 0.00, RR: 0.00:   0%|          | 1/200 [00:00<00:28,  6.97it/s]"
     ]
    },
    {
     "name": "stdout",
     "output_type": "stream",
     "text": [
      "{'b': 0.75, 'k1': 1, 'k2': 4, 'type': 'bm25'}\n",
      "  Accuracy: 0.20\n",
      "  Accuracy10: 0.49\n",
      "  RR: 0.29\n"
     ]
    },
    {
     "name": "stderr",
     "output_type": "stream",
     "text": [
      "Acc: 0.20, Acc10: 0.49, RR: 0.29: 100%|██████████| 200/200 [00:28<00:00,  7.06it/s]\n",
      "Acc: 0.00, Acc10: 0.00, RR: 0.00:   0%|          | 1/200 [00:00<00:25,  7.76it/s]"
     ]
    },
    {
     "name": "stdout",
     "output_type": "stream",
     "text": [
      "{'b': 0.75, 'k1': 1, 'k2': 5, 'type': 'bm25'}\n",
      "  Accuracy: 0.20\n",
      "  Accuracy10: 0.49\n",
      "  RR: 0.29\n"
     ]
    },
    {
     "name": "stderr",
     "output_type": "stream",
     "text": [
      "Acc: 0.24, Acc10: 0.51, RR: 0.33: 100%|██████████| 200/200 [00:28<00:00,  7.06it/s]\n",
      "Acc: 0.00, Acc10: 0.00, RR: 0.00:   0%|          | 1/200 [00:00<00:26,  7.59it/s]"
     ]
    },
    {
     "name": "stdout",
     "output_type": "stream",
     "text": [
      "{'b': 0.75, 'k1': 2, 'k2': 0, 'type': 'bm25'}\n",
      "  Accuracy: 0.24\n",
      "  Accuracy10: 0.51\n",
      "  RR: 0.33\n"
     ]
    },
    {
     "name": "stderr",
     "output_type": "stream",
     "text": [
      "Acc: 0.24, Acc10: 0.51, RR: 0.33: 100%|██████████| 200/200 [00:28<00:00,  7.09it/s]\n",
      "Acc: 0.00, Acc10: 0.00, RR: 0.00:   0%|          | 1/200 [00:00<00:26,  7.40it/s]"
     ]
    },
    {
     "name": "stdout",
     "output_type": "stream",
     "text": [
      "{'b': 0.75, 'k1': 2, 'k2': 1, 'type': 'bm25'}\n",
      "  Accuracy: 0.24\n",
      "  Accuracy10: 0.51\n",
      "  RR: 0.33\n"
     ]
    },
    {
     "name": "stderr",
     "output_type": "stream",
     "text": [
      "Acc: 0.24, Acc10: 0.51, RR: 0.33: 100%|██████████| 200/200 [00:28<00:00,  7.06it/s]\n",
      "Acc: 0.00, Acc10: 0.00, RR: 0.00:   0%|          | 1/200 [00:00<00:27,  7.13it/s]"
     ]
    },
    {
     "name": "stdout",
     "output_type": "stream",
     "text": [
      "{'b': 0.75, 'k1': 2, 'k2': 2, 'type': 'bm25'}\n",
      "  Accuracy: 0.24\n",
      "  Accuracy10: 0.51\n",
      "  RR: 0.33\n"
     ]
    },
    {
     "name": "stderr",
     "output_type": "stream",
     "text": [
      "Acc: 0.23, Acc10: 0.50, RR: 0.32: 100%|██████████| 200/200 [00:28<00:00,  7.12it/s]\n",
      "Acc: 0.00, Acc10: 0.00, RR: 0.00:   0%|          | 1/200 [00:00<00:25,  7.93it/s]"
     ]
    },
    {
     "name": "stdout",
     "output_type": "stream",
     "text": [
      "{'b': 0.75, 'k1': 2, 'k2': 3, 'type': 'bm25'}\n",
      "  Accuracy: 0.23\n",
      "  Accuracy10: 0.50\n",
      "  RR: 0.32\n"
     ]
    },
    {
     "name": "stderr",
     "output_type": "stream",
     "text": [
      "Acc: 0.23, Acc10: 0.49, RR: 0.32: 100%|██████████| 200/200 [00:28<00:00,  7.11it/s]\n",
      "Acc: 0.00, Acc10: 0.00, RR: 0.00:   0%|          | 1/200 [00:00<00:27,  7.27it/s]"
     ]
    },
    {
     "name": "stdout",
     "output_type": "stream",
     "text": [
      "{'b': 0.75, 'k1': 2, 'k2': 4, 'type': 'bm25'}\n",
      "  Accuracy: 0.23\n",
      "  Accuracy10: 0.49\n",
      "  RR: 0.32\n"
     ]
    },
    {
     "name": "stderr",
     "output_type": "stream",
     "text": [
      "Acc: 0.23, Acc10: 0.49, RR: 0.32: 100%|██████████| 200/200 [00:28<00:00,  7.12it/s]\n",
      "Acc: 0.00, Acc10: 0.00, RR: 0.00:   0%|          | 1/200 [00:00<00:27,  7.36it/s]"
     ]
    },
    {
     "name": "stdout",
     "output_type": "stream",
     "text": [
      "{'b': 0.75, 'k1': 2, 'k2': 5, 'type': 'bm25'}\n",
      "  Accuracy: 0.23\n",
      "  Accuracy10: 0.49\n",
      "  RR: 0.32\n"
     ]
    },
    {
     "name": "stderr",
     "output_type": "stream",
     "text": [
      "Acc: 0.25, Acc10: 0.51, RR: 0.33: 100%|██████████| 200/200 [00:28<00:00,  7.03it/s]\n",
      "Acc: 0.00, Acc10: 0.00, RR: 0.00:   0%|          | 1/200 [00:00<00:27,  7.35it/s]"
     ]
    },
    {
     "name": "stdout",
     "output_type": "stream",
     "text": [
      "{'b': 0.75, 'k1': 3, 'k2': 0, 'type': 'bm25'}\n",
      "  Accuracy: 0.25\n",
      "  Accuracy10: 0.51\n",
      "  RR: 0.33\n"
     ]
    },
    {
     "name": "stderr",
     "output_type": "stream",
     "text": [
      "Acc: 0.25, Acc10: 0.51, RR: 0.33: 100%|██████████| 200/200 [00:28<00:00,  7.04it/s]\n",
      "Acc: 0.00, Acc10: 0.00, RR: 0.00:   0%|          | 1/200 [00:00<00:25,  7.66it/s]"
     ]
    },
    {
     "name": "stdout",
     "output_type": "stream",
     "text": [
      "{'b': 0.75, 'k1': 3, 'k2': 1, 'type': 'bm25'}\n",
      "  Accuracy: 0.25\n",
      "  Accuracy10: 0.51\n",
      "  RR: 0.33\n"
     ]
    },
    {
     "name": "stderr",
     "output_type": "stream",
     "text": [
      "Acc: 0.23, Acc10: 0.50, RR: 0.32: 100%|██████████| 200/200 [00:28<00:00,  7.03it/s]\n",
      "Acc: 0.00, Acc10: 0.00, RR: 0.00:   0%|          | 1/200 [00:00<00:25,  7.69it/s]"
     ]
    },
    {
     "name": "stdout",
     "output_type": "stream",
     "text": [
      "{'b': 0.75, 'k1': 3, 'k2': 2, 'type': 'bm25'}\n",
      "  Accuracy: 0.23\n",
      "  Accuracy10: 0.50\n",
      "  RR: 0.32\n"
     ]
    },
    {
     "name": "stderr",
     "output_type": "stream",
     "text": [
      "Acc: 0.23, Acc10: 0.49, RR: 0.32: 100%|██████████| 200/200 [00:28<00:00,  7.01it/s]\n",
      "Acc: 0.00, Acc10: 0.00, RR: 0.00:   0%|          | 1/200 [00:00<00:28,  6.94it/s]"
     ]
    },
    {
     "name": "stdout",
     "output_type": "stream",
     "text": [
      "{'b': 0.75, 'k1': 3, 'k2': 3, 'type': 'bm25'}\n",
      "  Accuracy: 0.23\n",
      "  Accuracy10: 0.49\n",
      "  RR: 0.32\n"
     ]
    },
    {
     "name": "stderr",
     "output_type": "stream",
     "text": [
      "Acc: 0.23, Acc10: 0.48, RR: 0.31: 100%|██████████| 200/200 [00:28<00:00,  7.05it/s]\n",
      "Acc: 0.00, Acc10: 0.00, RR: 0.00:   0%|          | 1/200 [00:00<00:26,  7.60it/s]"
     ]
    },
    {
     "name": "stdout",
     "output_type": "stream",
     "text": [
      "{'b': 0.75, 'k1': 3, 'k2': 4, 'type': 'bm25'}\n",
      "  Accuracy: 0.23\n",
      "  Accuracy10: 0.48\n",
      "  RR: 0.31\n"
     ]
    },
    {
     "name": "stderr",
     "output_type": "stream",
     "text": [
      "Acc: 0.23, Acc10: 0.48, RR: 0.31: 100%|██████████| 200/200 [00:28<00:00,  7.10it/s]\n",
      "Acc: 0.00, Acc10: 0.00, RR: 0.00:   0%|          | 1/200 [00:00<00:26,  7.50it/s]"
     ]
    },
    {
     "name": "stdout",
     "output_type": "stream",
     "text": [
      "{'b': 0.75, 'k1': 3, 'k2': 5, 'type': 'bm25'}\n",
      "  Accuracy: 0.23\n",
      "  Accuracy10: 0.48\n",
      "  RR: 0.31\n"
     ]
    },
    {
     "name": "stderr",
     "output_type": "stream",
     "text": [
      "Acc: 0.27, Acc10: 0.51, RR: 0.34: 100%|██████████| 200/200 [00:27<00:00,  7.34it/s]\n",
      "Acc: 0.00, Acc10: 0.00, RR: 0.00:   0%|          | 1/200 [00:00<00:25,  7.86it/s]"
     ]
    },
    {
     "name": "stdout",
     "output_type": "stream",
     "text": [
      "{'b': 0.75, 'k1': 4, 'k2': 0, 'type': 'bm25'}\n",
      "  Accuracy: 0.27\n",
      "  Accuracy10: 0.51\n",
      "  RR: 0.34\n"
     ]
    },
    {
     "name": "stderr",
     "output_type": "stream",
     "text": [
      "Acc: 0.26, Acc10: 0.51, RR: 0.33: 100%|██████████| 200/200 [00:26<00:00,  7.43it/s]\n",
      "Acc: 0.00, Acc10: 0.00, RR: 0.00:   0%|          | 1/200 [00:00<00:24,  8.12it/s]"
     ]
    },
    {
     "name": "stdout",
     "output_type": "stream",
     "text": [
      "{'b': 0.75, 'k1': 4, 'k2': 1, 'type': 'bm25'}\n",
      "  Accuracy: 0.26\n",
      "  Accuracy10: 0.51\n",
      "  RR: 0.33\n"
     ]
    },
    {
     "name": "stderr",
     "output_type": "stream",
     "text": [
      "Acc: 0.25, Acc10: 0.49, RR: 0.32: 100%|██████████| 200/200 [00:26<00:00,  7.46it/s]\n",
      "Acc: 0.00, Acc10: 0.00, RR: 0.00:   0%|          | 1/200 [00:00<00:25,  7.73it/s]"
     ]
    },
    {
     "name": "stdout",
     "output_type": "stream",
     "text": [
      "{'b': 0.75, 'k1': 4, 'k2': 2, 'type': 'bm25'}\n",
      "  Accuracy: 0.25\n",
      "  Accuracy10: 0.49\n",
      "  RR: 0.32\n"
     ]
    },
    {
     "name": "stderr",
     "output_type": "stream",
     "text": [
      "Acc: 0.24, Acc10: 0.49, RR: 0.32: 100%|██████████| 200/200 [00:26<00:00,  7.41it/s]\n",
      "Acc: 0.00, Acc10: 0.00, RR: 0.00:   0%|          | 1/200 [00:00<00:26,  7.57it/s]"
     ]
    },
    {
     "name": "stdout",
     "output_type": "stream",
     "text": [
      "{'b': 0.75, 'k1': 4, 'k2': 3, 'type': 'bm25'}\n",
      "  Accuracy: 0.24\n",
      "  Accuracy10: 0.49\n",
      "  RR: 0.32\n"
     ]
    },
    {
     "name": "stderr",
     "output_type": "stream",
     "text": [
      "Acc: 0.24, Acc10: 0.49, RR: 0.31: 100%|██████████| 200/200 [00:26<00:00,  7.43it/s]\n",
      "Acc: 0.00, Acc10: 0.00, RR: 0.00:   0%|          | 1/200 [00:00<00:25,  7.79it/s]"
     ]
    },
    {
     "name": "stdout",
     "output_type": "stream",
     "text": [
      "{'b': 0.75, 'k1': 4, 'k2': 4, 'type': 'bm25'}\n",
      "  Accuracy: 0.24\n",
      "  Accuracy10: 0.49\n",
      "  RR: 0.31\n"
     ]
    },
    {
     "name": "stderr",
     "output_type": "stream",
     "text": [
      "Acc: 0.24, Acc10: 0.48, RR: 0.31: 100%|██████████| 200/200 [00:26<00:00,  7.48it/s]\n",
      "Acc: 0.00, Acc10: 0.00, RR: 0.00:   0%|          | 1/200 [00:00<00:25,  7.80it/s]"
     ]
    },
    {
     "name": "stdout",
     "output_type": "stream",
     "text": [
      "{'b': 0.75, 'k1': 4, 'k2': 5, 'type': 'bm25'}\n",
      "  Accuracy: 0.24\n",
      "  Accuracy10: 0.48\n",
      "  RR: 0.31\n"
     ]
    },
    {
     "name": "stderr",
     "output_type": "stream",
     "text": [
      "Acc: 0.26, Acc10: 0.51, RR: 0.33: 100%|██████████| 200/200 [00:26<00:00,  7.47it/s]\n",
      "Acc: 0.00, Acc10: 0.00, RR: 0.00:   0%|          | 1/200 [00:00<00:25,  7.84it/s]"
     ]
    },
    {
     "name": "stdout",
     "output_type": "stream",
     "text": [
      "{'b': 0.75, 'k1': 5, 'k2': 0, 'type': 'bm25'}\n",
      "  Accuracy: 0.26\n",
      "  Accuracy10: 0.51\n",
      "  RR: 0.33\n"
     ]
    },
    {
     "name": "stderr",
     "output_type": "stream",
     "text": [
      "Acc: 0.24, Acc10: 0.49, RR: 0.32: 100%|██████████| 200/200 [00:26<00:00,  7.44it/s]\n",
      "Acc: 0.00, Acc10: 0.00, RR: 0.00:   0%|          | 1/200 [00:00<00:25,  7.75it/s]"
     ]
    },
    {
     "name": "stdout",
     "output_type": "stream",
     "text": [
      "{'b': 0.75, 'k1': 5, 'k2': 1, 'type': 'bm25'}\n",
      "  Accuracy: 0.24\n",
      "  Accuracy10: 0.49\n",
      "  RR: 0.32\n"
     ]
    },
    {
     "name": "stderr",
     "output_type": "stream",
     "text": [
      "Acc: 0.24, Acc10: 0.47, RR: 0.32: 100%|██████████| 200/200 [00:27<00:00,  7.38it/s]\n",
      "Acc: 0.00, Acc10: 0.00, RR: 0.00:   0%|          | 1/200 [00:00<00:25,  7.80it/s]"
     ]
    },
    {
     "name": "stdout",
     "output_type": "stream",
     "text": [
      "{'b': 0.75, 'k1': 5, 'k2': 2, 'type': 'bm25'}\n",
      "  Accuracy: 0.24\n",
      "  Accuracy10: 0.47\n",
      "  RR: 0.32\n"
     ]
    },
    {
     "name": "stderr",
     "output_type": "stream",
     "text": [
      "Acc: 0.23, Acc10: 0.47, RR: 0.31: 100%|██████████| 200/200 [00:26<00:00,  7.47it/s]\n",
      "Acc: 0.00, Acc10: 0.00, RR: 0.00:   0%|          | 1/200 [00:00<00:25,  7.82it/s]"
     ]
    },
    {
     "name": "stdout",
     "output_type": "stream",
     "text": [
      "{'b': 0.75, 'k1': 5, 'k2': 3, 'type': 'bm25'}\n",
      "  Accuracy: 0.23\n",
      "  Accuracy10: 0.47\n",
      "  RR: 0.31\n"
     ]
    },
    {
     "name": "stderr",
     "output_type": "stream",
     "text": [
      "Acc: 0.23, Acc10: 0.47, RR: 0.31: 100%|██████████| 200/200 [00:26<00:00,  7.47it/s]\n",
      "Acc: 0.00, Acc10: 0.00, RR: 0.00:   0%|          | 1/200 [00:00<00:25,  7.78it/s]"
     ]
    },
    {
     "name": "stdout",
     "output_type": "stream",
     "text": [
      "{'b': 0.75, 'k1': 5, 'k2': 4, 'type': 'bm25'}\n",
      "  Accuracy: 0.23\n",
      "  Accuracy10: 0.47\n",
      "  RR: 0.31\n"
     ]
    },
    {
     "name": "stderr",
     "output_type": "stream",
     "text": [
      "Acc: 0.23, Acc10: 0.47, RR: 0.30: 100%|██████████| 200/200 [00:26<00:00,  7.47it/s]\n",
      "Acc: 0.00, Acc10: 0.00, RR: 0.00:   0%|          | 1/200 [00:00<00:24,  8.16it/s]"
     ]
    },
    {
     "name": "stdout",
     "output_type": "stream",
     "text": [
      "{'b': 0.75, 'k1': 5, 'k2': 5, 'type': 'bm25'}\n",
      "  Accuracy: 0.23\n",
      "  Accuracy10: 0.47\n",
      "  RR: 0.30\n"
     ]
    },
    {
     "name": "stderr",
     "output_type": "stream",
     "text": [
      "Acc: 0.06, Acc10: 0.21, RR: 0.10: 100%|██████████| 200/200 [00:26<00:00,  7.56it/s]\n",
      "Acc: 0.00, Acc10: 0.00, RR: 0.00:   0%|          | 1/200 [00:00<00:25,  7.88it/s]"
     ]
    },
    {
     "name": "stdout",
     "output_type": "stream",
     "text": [
      "{'b': 1.0, 'k1': 0, 'k2': 0, 'type': 'bm25'}\n",
      "  Accuracy: 0.06\n",
      "  Accuracy10: 0.21\n",
      "  RR: 0.10\n"
     ]
    },
    {
     "name": "stderr",
     "output_type": "stream",
     "text": [
      "Acc: 0.06, Acc10: 0.21, RR: 0.10: 100%|██████████| 200/200 [00:26<00:00,  7.58it/s]\n",
      "Acc: 0.00, Acc10: 0.00, RR: 0.00:   0%|          | 1/200 [00:00<00:25,  7.89it/s]"
     ]
    },
    {
     "name": "stdout",
     "output_type": "stream",
     "text": [
      "{'b': 1.0, 'k1': 0, 'k2': 1, 'type': 'bm25'}\n",
      "  Accuracy: 0.06\n",
      "  Accuracy10: 0.21\n",
      "  RR: 0.10\n"
     ]
    },
    {
     "name": "stderr",
     "output_type": "stream",
     "text": [
      "Acc: 0.06, Acc10: 0.21, RR: 0.10: 100%|██████████| 200/200 [00:26<00:00,  7.55it/s]\n",
      "Acc: 0.00, Acc10: 0.00, RR: 0.00:   0%|          | 1/200 [00:00<00:24,  8.01it/s]"
     ]
    },
    {
     "name": "stdout",
     "output_type": "stream",
     "text": [
      "{'b': 1.0, 'k1': 0, 'k2': 2, 'type': 'bm25'}\n",
      "  Accuracy: 0.06\n",
      "  Accuracy10: 0.21\n",
      "  RR: 0.10\n"
     ]
    },
    {
     "name": "stderr",
     "output_type": "stream",
     "text": [
      "Acc: 0.06, Acc10: 0.21, RR: 0.10: 100%|██████████| 200/200 [00:26<00:00,  7.61it/s]\n",
      "Acc: 0.00, Acc10: 0.00, RR: 0.00:   0%|          | 1/200 [00:00<00:25,  7.92it/s]"
     ]
    },
    {
     "name": "stdout",
     "output_type": "stream",
     "text": [
      "{'b': 1.0, 'k1': 0, 'k2': 3, 'type': 'bm25'}\n",
      "  Accuracy: 0.06\n",
      "  Accuracy10: 0.21\n",
      "  RR: 0.10\n"
     ]
    },
    {
     "name": "stderr",
     "output_type": "stream",
     "text": [
      "Acc: 0.06, Acc10: 0.21, RR: 0.10: 100%|██████████| 200/200 [00:26<00:00,  7.55it/s]\n",
      "Acc: 0.00, Acc10: 0.00, RR: 0.00:   0%|          | 1/200 [00:00<00:24,  8.27it/s]"
     ]
    },
    {
     "name": "stdout",
     "output_type": "stream",
     "text": [
      "{'b': 1.0, 'k1': 0, 'k2': 4, 'type': 'bm25'}\n",
      "  Accuracy: 0.06\n",
      "  Accuracy10: 0.21\n",
      "  RR: 0.10\n"
     ]
    },
    {
     "name": "stderr",
     "output_type": "stream",
     "text": [
      "Acc: 0.06, Acc10: 0.21, RR: 0.10: 100%|██████████| 200/200 [00:27<00:00,  7.39it/s]\n",
      "Acc: 0.00, Acc10: 0.00, RR: 0.00:   0%|          | 1/200 [00:00<00:28,  6.88it/s]"
     ]
    },
    {
     "name": "stdout",
     "output_type": "stream",
     "text": [
      "{'b': 1.0, 'k1': 0, 'k2': 5, 'type': 'bm25'}\n",
      "  Accuracy: 0.06\n",
      "  Accuracy10: 0.21\n",
      "  RR: 0.10\n"
     ]
    },
    {
     "name": "stderr",
     "output_type": "stream",
     "text": [
      "Acc: 0.19, Acc10: 0.47, RR: 0.27: 100%|██████████| 200/200 [00:27<00:00,  7.36it/s]\n",
      "Acc: 0.00, Acc10: 0.00, RR: 0.00:   0%|          | 1/200 [00:00<00:26,  7.54it/s]"
     ]
    },
    {
     "name": "stdout",
     "output_type": "stream",
     "text": [
      "{'b': 1.0, 'k1': 1, 'k2': 0, 'type': 'bm25'}\n",
      "  Accuracy: 0.19\n",
      "  Accuracy10: 0.47\n",
      "  RR: 0.27\n"
     ]
    },
    {
     "name": "stderr",
     "output_type": "stream",
     "text": [
      "Acc: 0.18, Acc10: 0.47, RR: 0.27: 100%|██████████| 200/200 [00:27<00:00,  7.34it/s]\n",
      "Acc: 0.00, Acc10: 0.00, RR: 0.00:   0%|          | 1/200 [00:00<00:25,  7.81it/s]"
     ]
    },
    {
     "name": "stdout",
     "output_type": "stream",
     "text": [
      "{'b': 1.0, 'k1': 1, 'k2': 1, 'type': 'bm25'}\n",
      "  Accuracy: 0.18\n",
      "  Accuracy10: 0.47\n",
      "  RR: 0.27\n"
     ]
    },
    {
     "name": "stderr",
     "output_type": "stream",
     "text": [
      "Acc: 0.18, Acc10: 0.47, RR: 0.27: 100%|██████████| 200/200 [00:26<00:00,  7.41it/s]\n",
      "Acc: 0.00, Acc10: 0.00, RR: 0.00:   0%|          | 1/200 [00:00<00:26,  7.54it/s]"
     ]
    },
    {
     "name": "stdout",
     "output_type": "stream",
     "text": [
      "{'b': 1.0, 'k1': 1, 'k2': 2, 'type': 'bm25'}\n",
      "  Accuracy: 0.18\n",
      "  Accuracy10: 0.47\n",
      "  RR: 0.27\n"
     ]
    },
    {
     "name": "stderr",
     "output_type": "stream",
     "text": [
      "Acc: 0.17, Acc10: 0.47, RR: 0.26: 100%|██████████| 200/200 [00:28<00:00,  7.09it/s]\n",
      "Acc: 0.00, Acc10: 0.00, RR: 0.00:   0%|          | 1/200 [00:00<00:32,  6.17it/s]"
     ]
    },
    {
     "name": "stdout",
     "output_type": "stream",
     "text": [
      "{'b': 1.0, 'k1': 1, 'k2': 3, 'type': 'bm25'}\n",
      "  Accuracy: 0.17\n",
      "  Accuracy10: 0.47\n",
      "  RR: 0.26\n"
     ]
    },
    {
     "name": "stderr",
     "output_type": "stream",
     "text": [
      "Acc: 0.17, Acc10: 0.46, RR: 0.26: 100%|██████████| 200/200 [00:29<00:00,  6.73it/s]\n",
      "Acc: 0.00, Acc10: 0.00, RR: 0.00:   0%|          | 1/200 [00:00<00:28,  6.92it/s]"
     ]
    },
    {
     "name": "stdout",
     "output_type": "stream",
     "text": [
      "{'b': 1.0, 'k1': 1, 'k2': 4, 'type': 'bm25'}\n",
      "  Accuracy: 0.17\n",
      "  Accuracy10: 0.46\n",
      "  RR: 0.26\n"
     ]
    },
    {
     "name": "stderr",
     "output_type": "stream",
     "text": [
      "Acc: 0.17, Acc10: 0.46, RR: 0.26: 100%|██████████| 200/200 [00:29<00:00,  6.67it/s]\n",
      "Acc: 0.00, Acc10: 0.00, RR: 0.00:   0%|          | 1/200 [00:00<00:35,  5.63it/s]"
     ]
    },
    {
     "name": "stdout",
     "output_type": "stream",
     "text": [
      "{'b': 1.0, 'k1': 1, 'k2': 5, 'type': 'bm25'}\n",
      "  Accuracy: 0.17\n",
      "  Accuracy10: 0.46\n",
      "  RR: 0.26\n"
     ]
    },
    {
     "name": "stderr",
     "output_type": "stream",
     "text": [
      "Acc: 0.20, Acc10: 0.44, RR: 0.28: 100%|██████████| 200/200 [00:31<00:00,  6.37it/s]\n",
      "Acc: 0.00, Acc10: 0.00, RR: 0.00:   0%|          | 1/200 [00:00<00:27,  7.29it/s]"
     ]
    },
    {
     "name": "stdout",
     "output_type": "stream",
     "text": [
      "{'b': 1.0, 'k1': 2, 'k2': 0, 'type': 'bm25'}\n",
      "  Accuracy: 0.20\n",
      "  Accuracy10: 0.44\n",
      "  RR: 0.28\n"
     ]
    },
    {
     "name": "stderr",
     "output_type": "stream",
     "text": [
      "Acc: 0.20, Acc10: 0.44, RR: 0.27: 100%|██████████| 200/200 [00:31<00:00,  6.35it/s]\n",
      "Acc: 0.00, Acc10: 0.00, RR: 0.00:   0%|          | 1/200 [00:00<00:33,  5.88it/s]"
     ]
    },
    {
     "name": "stdout",
     "output_type": "stream",
     "text": [
      "{'b': 1.0, 'k1': 2, 'k2': 1, 'type': 'bm25'}\n",
      "  Accuracy: 0.20\n",
      "  Accuracy10: 0.44\n",
      "  RR: 0.27\n"
     ]
    },
    {
     "name": "stderr",
     "output_type": "stream",
     "text": [
      "Acc: 0.20, Acc10: 0.43, RR: 0.27: 100%|██████████| 200/200 [00:32<00:00,  6.22it/s]\n",
      "Acc: 0.00, Acc10: 0.00, RR: 0.00:   0%|          | 1/200 [00:00<00:31,  6.34it/s]"
     ]
    },
    {
     "name": "stdout",
     "output_type": "stream",
     "text": [
      "{'b': 1.0, 'k1': 2, 'k2': 2, 'type': 'bm25'}\n",
      "  Accuracy: 0.20\n",
      "  Accuracy10: 0.43\n",
      "  RR: 0.27\n"
     ]
    },
    {
     "name": "stderr",
     "output_type": "stream",
     "text": [
      "Acc: 0.19, Acc10: 0.43, RR: 0.26: 100%|██████████| 200/200 [00:29<00:00,  6.80it/s]\n",
      "Acc: 0.00, Acc10: 0.00, RR: 0.00:   0%|          | 1/200 [00:00<00:31,  6.42it/s]"
     ]
    },
    {
     "name": "stdout",
     "output_type": "stream",
     "text": [
      "{'b': 1.0, 'k1': 2, 'k2': 3, 'type': 'bm25'}\n",
      "  Accuracy: 0.19\n",
      "  Accuracy10: 0.43\n",
      "  RR: 0.26\n"
     ]
    },
    {
     "name": "stderr",
     "output_type": "stream",
     "text": [
      "Acc: 0.18, Acc10: 0.43, RR: 0.26: 100%|██████████| 200/200 [00:32<00:00,  6.20it/s]\n",
      "Acc: 0.00, Acc10: 0.00, RR: 0.00:   0%|          | 1/200 [00:00<00:26,  7.41it/s]"
     ]
    },
    {
     "name": "stdout",
     "output_type": "stream",
     "text": [
      "{'b': 1.0, 'k1': 2, 'k2': 4, 'type': 'bm25'}\n",
      "  Accuracy: 0.18\n",
      "  Accuracy10: 0.43\n",
      "  RR: 0.26\n"
     ]
    },
    {
     "name": "stderr",
     "output_type": "stream",
     "text": [
      "Acc: 0.17, Acc10: 0.43, RR: 0.25: 100%|██████████| 200/200 [00:31<00:00,  6.29it/s]\n",
      "Acc: 0.00, Acc10: 0.00, RR: 0.00:   0%|          | 1/200 [00:00<00:35,  5.60it/s]"
     ]
    },
    {
     "name": "stdout",
     "output_type": "stream",
     "text": [
      "{'b': 1.0, 'k1': 2, 'k2': 5, 'type': 'bm25'}\n",
      "  Accuracy: 0.17\n",
      "  Accuracy10: 0.43\n",
      "  RR: 0.25\n"
     ]
    },
    {
     "name": "stderr",
     "output_type": "stream",
     "text": [
      "Acc: 0.20, Acc10: 0.43, RR: 0.27: 100%|██████████| 200/200 [00:32<00:00,  6.16it/s]\n",
      "Acc: 0.00, Acc10: 0.00, RR: 0.00:   0%|          | 1/200 [00:00<00:29,  6.68it/s]"
     ]
    },
    {
     "name": "stdout",
     "output_type": "stream",
     "text": [
      "{'b': 1.0, 'k1': 3, 'k2': 0, 'type': 'bm25'}\n",
      "  Accuracy: 0.20\n",
      "  Accuracy10: 0.43\n",
      "  RR: 0.27\n"
     ]
    },
    {
     "name": "stderr",
     "output_type": "stream",
     "text": [
      "Acc: 0.18, Acc10: 0.42, RR: 0.25: 100%|██████████| 200/200 [00:34<00:00,  5.86it/s]\n",
      "Acc: 0.00, Acc10: 0.00, RR: 0.00:   0%|          | 1/200 [00:00<00:37,  5.35it/s]"
     ]
    },
    {
     "name": "stdout",
     "output_type": "stream",
     "text": [
      "{'b': 1.0, 'k1': 3, 'k2': 1, 'type': 'bm25'}\n",
      "  Accuracy: 0.18\n",
      "  Accuracy10: 0.42\n",
      "  RR: 0.25\n"
     ]
    },
    {
     "name": "stderr",
     "output_type": "stream",
     "text": [
      "Acc: 0.17, Acc10: 0.41, RR: 0.25: 100%|██████████| 200/200 [00:37<00:00,  5.37it/s]\n",
      "  0%|          | 0/200 [00:00<?, ?it/s]"
     ]
    },
    {
     "name": "stdout",
     "output_type": "stream",
     "text": [
      "{'b': 1.0, 'k1': 3, 'k2': 2, 'type': 'bm25'}\n",
      "  Accuracy: 0.17\n",
      "  Accuracy10: 0.41\n",
      "  RR: 0.25\n"
     ]
    },
    {
     "name": "stderr",
     "output_type": "stream",
     "text": [
      "Acc: 0.17, Acc10: 0.41, RR: 0.24: 100%|██████████| 200/200 [00:33<00:00,  6.03it/s]\n",
      "Acc: 0.00, Acc10: 0.00, RR: 0.00:   0%|          | 1/200 [00:00<00:30,  6.62it/s]"
     ]
    },
    {
     "name": "stdout",
     "output_type": "stream",
     "text": [
      "{'b': 1.0, 'k1': 3, 'k2': 3, 'type': 'bm25'}\n",
      "  Accuracy: 0.17\n",
      "  Accuracy10: 0.41\n",
      "  RR: 0.24\n"
     ]
    },
    {
     "name": "stderr",
     "output_type": "stream",
     "text": [
      "Acc: 0.17, Acc10: 0.40, RR: 0.24: 100%|██████████| 200/200 [00:32<00:00,  6.12it/s]\n",
      "Acc: 0.00, Acc10: 0.00, RR: 0.00:   0%|          | 1/200 [00:00<00:30,  6.49it/s]"
     ]
    },
    {
     "name": "stdout",
     "output_type": "stream",
     "text": [
      "{'b': 1.0, 'k1': 3, 'k2': 4, 'type': 'bm25'}\n",
      "  Accuracy: 0.17\n",
      "  Accuracy10: 0.40\n",
      "  RR: 0.24\n"
     ]
    },
    {
     "name": "stderr",
     "output_type": "stream",
     "text": [
      "Acc: 0.17, Acc10: 0.40, RR: 0.24: 100%|██████████| 200/200 [00:35<00:00,  5.69it/s]\n",
      "Acc: 0.00, Acc10: 0.00, RR: 0.00:   0%|          | 1/200 [00:00<00:39,  5.08it/s]"
     ]
    },
    {
     "name": "stdout",
     "output_type": "stream",
     "text": [
      "{'b': 1.0, 'k1': 3, 'k2': 5, 'type': 'bm25'}\n",
      "  Accuracy: 0.17\n",
      "  Accuracy10: 0.40\n",
      "  RR: 0.24\n"
     ]
    },
    {
     "name": "stderr",
     "output_type": "stream",
     "text": [
      "Acc: 0.15, Acc10: 0.42, RR: 0.24: 100%|██████████| 200/200 [00:53<00:00,  3.73it/s]\n",
      "Acc: 0.00, Acc10: 0.00, RR: 0.00:   0%|          | 1/200 [00:00<00:35,  5.65it/s]"
     ]
    },
    {
     "name": "stdout",
     "output_type": "stream",
     "text": [
      "{'b': 1.0, 'k1': 4, 'k2': 0, 'type': 'bm25'}\n",
      "  Accuracy: 0.15\n",
      "  Accuracy10: 0.42\n",
      "  RR: 0.24\n"
     ]
    },
    {
     "name": "stderr",
     "output_type": "stream",
     "text": [
      "Acc: 0.15, Acc10: 0.40, RR: 0.23: 100%|██████████| 200/200 [00:33<00:00,  5.89it/s]\n",
      "Acc: 0.00, Acc10: 0.00, RR: 0.00:   0%|          | 1/200 [00:00<00:25,  7.81it/s]"
     ]
    },
    {
     "name": "stdout",
     "output_type": "stream",
     "text": [
      "{'b': 1.0, 'k1': 4, 'k2': 1, 'type': 'bm25'}\n",
      "  Accuracy: 0.15\n",
      "  Accuracy10: 0.40\n",
      "  RR: 0.23\n"
     ]
    },
    {
     "name": "stderr",
     "output_type": "stream",
     "text": [
      "Acc: 0.14, Acc10: 0.39, RR: 0.22: 100%|██████████| 200/200 [00:30<00:00,  6.54it/s]\n",
      "Acc: 0.00, Acc10: 0.00, RR: 0.00:   0%|          | 1/200 [00:00<00:27,  7.36it/s]"
     ]
    },
    {
     "name": "stdout",
     "output_type": "stream",
     "text": [
      "{'b': 1.0, 'k1': 4, 'k2': 2, 'type': 'bm25'}\n",
      "  Accuracy: 0.14\n",
      "  Accuracy10: 0.39\n",
      "  RR: 0.22\n"
     ]
    },
    {
     "name": "stderr",
     "output_type": "stream",
     "text": [
      "Acc: 0.14, Acc10: 0.38, RR: 0.22: 100%|██████████| 200/200 [00:31<00:00,  6.26it/s]\n",
      "Acc: 0.00, Acc10: 0.00, RR: 0.00:   0%|          | 1/200 [00:00<00:30,  6.61it/s]"
     ]
    },
    {
     "name": "stdout",
     "output_type": "stream",
     "text": [
      "{'b': 1.0, 'k1': 4, 'k2': 3, 'type': 'bm25'}\n",
      "  Accuracy: 0.14\n",
      "  Accuracy10: 0.38\n",
      "  RR: 0.22\n"
     ]
    },
    {
     "name": "stderr",
     "output_type": "stream",
     "text": [
      "Acc: 0.14, Acc10: 0.38, RR: 0.22: 100%|██████████| 200/200 [00:34<00:00,  5.79it/s]\n",
      "Acc: 0.00, Acc10: 0.00, RR: 0.00:   0%|          | 1/200 [00:00<00:29,  6.80it/s]"
     ]
    },
    {
     "name": "stdout",
     "output_type": "stream",
     "text": [
      "{'b': 1.0, 'k1': 4, 'k2': 4, 'type': 'bm25'}\n",
      "  Accuracy: 0.14\n",
      "  Accuracy10: 0.38\n",
      "  RR: 0.22\n"
     ]
    },
    {
     "name": "stderr",
     "output_type": "stream",
     "text": [
      "Acc: 0.14, Acc10: 0.38, RR: 0.21: 100%|██████████| 200/200 [00:32<00:00,  6.24it/s]\n",
      "Acc: 0.00, Acc10: 0.00, RR: 0.00:   0%|          | 1/200 [00:00<00:26,  7.38it/s]"
     ]
    },
    {
     "name": "stdout",
     "output_type": "stream",
     "text": [
      "{'b': 1.0, 'k1': 4, 'k2': 5, 'type': 'bm25'}\n",
      "  Accuracy: 0.14\n",
      "  Accuracy10: 0.38\n",
      "  RR: 0.21\n"
     ]
    },
    {
     "name": "stderr",
     "output_type": "stream",
     "text": [
      "Acc: 0.14, Acc10: 0.40, RR: 0.23: 100%|██████████| 200/200 [00:31<00:00,  6.39it/s]\n",
      "Acc: 0.00, Acc10: 0.00, RR: 0.00:   0%|          | 1/200 [00:00<00:28,  6.88it/s]"
     ]
    },
    {
     "name": "stdout",
     "output_type": "stream",
     "text": [
      "{'b': 1.0, 'k1': 5, 'k2': 0, 'type': 'bm25'}\n",
      "  Accuracy: 0.14\n",
      "  Accuracy10: 0.40\n",
      "  RR: 0.23\n"
     ]
    },
    {
     "name": "stderr",
     "output_type": "stream",
     "text": [
      "Acc: 0.13, Acc10: 0.39, RR: 0.21: 100%|██████████| 200/200 [00:29<00:00,  6.75it/s]\n",
      "Acc: 0.00, Acc10: 0.00, RR: 0.00:   0%|          | 1/200 [00:00<00:27,  7.13it/s]"
     ]
    },
    {
     "name": "stdout",
     "output_type": "stream",
     "text": [
      "{'b': 1.0, 'k1': 5, 'k2': 1, 'type': 'bm25'}\n",
      "  Accuracy: 0.13\n",
      "  Accuracy10: 0.39\n",
      "  RR: 0.21\n"
     ]
    },
    {
     "name": "stderr",
     "output_type": "stream",
     "text": [
      "Acc: 0.12, Acc10: 0.38, RR: 0.21: 100%|██████████| 200/200 [00:29<00:00,  6.89it/s]\n",
      "Acc: 0.00, Acc10: 0.00, RR: 0.00:   0%|          | 1/200 [00:00<00:30,  6.44it/s]"
     ]
    },
    {
     "name": "stdout",
     "output_type": "stream",
     "text": [
      "{'b': 1.0, 'k1': 5, 'k2': 2, 'type': 'bm25'}\n",
      "  Accuracy: 0.12\n",
      "  Accuracy10: 0.38\n",
      "  RR: 0.21\n"
     ]
    },
    {
     "name": "stderr",
     "output_type": "stream",
     "text": [
      "Acc: 0.12, Acc10: 0.36, RR: 0.20: 100%|██████████| 200/200 [00:30<00:00,  6.66it/s]\n",
      "Acc: 0.00, Acc10: 0.00, RR: 0.00:   0%|          | 1/200 [00:00<00:32,  6.06it/s]"
     ]
    },
    {
     "name": "stdout",
     "output_type": "stream",
     "text": [
      "{'b': 1.0, 'k1': 5, 'k2': 3, 'type': 'bm25'}\n",
      "  Accuracy: 0.12\n",
      "  Accuracy10: 0.36\n",
      "  RR: 0.20\n"
     ]
    },
    {
     "name": "stderr",
     "output_type": "stream",
     "text": [
      "Acc: 0.12, Acc10: 0.36, RR: 0.20: 100%|██████████| 200/200 [00:29<00:00,  6.75it/s]\n",
      "Acc: 0.00, Acc10: 0.00, RR: 0.00:   0%|          | 1/200 [00:00<00:24,  7.99it/s]"
     ]
    },
    {
     "name": "stdout",
     "output_type": "stream",
     "text": [
      "{'b': 1.0, 'k1': 5, 'k2': 4, 'type': 'bm25'}\n",
      "  Accuracy: 0.12\n",
      "  Accuracy10: 0.36\n",
      "  RR: 0.20\n"
     ]
    },
    {
     "name": "stderr",
     "output_type": "stream",
     "text": [
      "Acc: 0.12, Acc10: 0.35, RR: 0.20: 100%|██████████| 200/200 [00:29<00:00,  6.83it/s]"
     ]
    },
    {
     "name": "stdout",
     "output_type": "stream",
     "text": [
      "{'b': 1.0, 'k1': 5, 'k2': 5, 'type': 'bm25'}\n",
      "  Accuracy: 0.12\n",
      "  Accuracy10: 0.35\n",
      "  RR: 0.20\n"
     ]
    },
    {
     "name": "stderr",
     "output_type": "stream",
     "text": [
      "\n"
     ]
    }
   ],
   "source": [
    "import numpy as np\n",
    "\n",
    "for b in np.linspace(0, 1, 5):\n",
    "    for k1 in range(6):\n",
    "        for k2 in range(6):\n",
    "            ranking_params = {\"b\": b, \"k1\": k1, \"k2\": k2, \"type\": \"bm25\"}\n",
    "            run(str(ranking_params), queries, collection_data, ranking_params)"
   ]
  },
  {
   "cell_type": "markdown",
   "metadata": {},
   "source": [
    "{'b': 0.5, 'k1': 4, 'k2': 0, 'type': 'bm25'}\n",
    "\n",
    "Accuracy: 0.28\n",
    "\n",
    "Accuracy10: 0.52\n",
    "\n",
    "RR: 0.36"
   ]
  },
  {
   "cell_type": "markdown",
   "metadata": {},
   "source": [
    "## ~Дополнительно~\n",
    "### 4.Поиск в векторной модели (+1 балл)"
   ]
  },
  {
   "cell_type": "markdown",
   "metadata": {},
   "source": [
    "Используйте готовые эмбединги или энкодер нейронной модели, и преобразуйте с помощью него запросы и документы в вектора небольшой размерности.\n",
    "Реализуйте поиск лучших документов по косинусной мере или скалярному произведению между векторами запроса и документа. Сравните результаты с моделями из предыдущих пунктов по метрикам и позапросно – выигрывает ли векторный вариант на тех примерах, где предыдущие модели не справляются? "
   ]
  },
  {
   "cell_type": "markdown",
   "metadata": {},
   "source": [
    "Для начала попробуем обучить модель на 15к статьях:"
   ]
  },
  {
   "cell_type": "code",
   "execution_count": null,
   "metadata": {},
   "outputs": [],
   "source": [
    "import gensim\n",
    "\n",
    "data = [v for _, v in bags_of_words.items()]\n",
    "model1 = gensim.models.Word2Vec(data, min_count = 1, size = 100, window = 5) "
   ]
  },
  {
   "cell_type": "code",
   "execution_count": 57,
   "metadata": {},
   "outputs": [],
   "source": [
    "from statistics import mean \n",
    "import warnings\n",
    "warnings.filterwarnings('ignore')\n",
    "\n",
    "def prepare_collection_vectors(model, docs, use_cut_data=False):\n",
    "    doc_vectors = {}\n",
    "    \n",
    "    for title, words0 in docs.items():\n",
    "        document_matrix = []\n",
    "        words = words0[:30] if use_cut_data else words0\n",
    "        for word in words:\n",
    "            if word in model:\n",
    "                document_matrix.append(model[word])\n",
    "        document_vector = []\n",
    "        for c in list(zip(*document_matrix)):\n",
    "            document_vector.append(mean(coord))\n",
    "        doc_vectors[title] = document_vector\n",
    "            \n",
    "    return doc_vectors"
   ]
  },
  {
   "cell_type": "code",
   "execution_count": 58,
   "metadata": {},
   "outputs": [],
   "source": [
    "from scipy import spatial\n",
    "\n",
    "def query2vec(model, query):\n",
    "    emb = []\n",
    "    q = []\n",
    "    for word in make_terms(query):\n",
    "        if word in model:\n",
    "            emb.append(model[word])\n",
    "    for v in list(zip(*emb)):\n",
    "        q.append(mean(v))\n",
    "    return q\n",
    "\n",
    "    \n",
    "def search_vector(model, query, doc_vectors):\n",
    "    query_vector = query2vec(model, query)\n",
    "\n",
    "    documents_range = []\n",
    "    for title, vector in doc_vectors.items():\n",
    "        if len(vector) != 0:\n",
    "            documents_range.append((title, spatial.distance.cosine(vector, query_vector)))\n",
    "        \n",
    "    return sorted(documents_range, key=lambda x: x[1])\n",
    "   \n",
    "    \n",
    "\n",
    "def demo_search(model, doc_vectors):\n",
    "    for query in [\"coronovirus in belarus\",\n",
    "                  \"who won junior eurovision in 2005\",\n",
    "                  \"science about full-text search\",\n",
    "                 ]:\n",
    "        result = search_vector(model, query, doc_vectors)[:5]\n",
    "        print(f\"[{query}]\")\n",
    "        for article_name, score in result:\n",
    "            print(f\"{score:7.2f}  {article_name}\")\n",
    "        print(\"\\n\")"
   ]
  },
  {
   "cell_type": "code",
   "execution_count": null,
   "metadata": {},
   "outputs": [],
   "source": [
    "doc_vectors = prepare_collection_vectors(model1, bags_of_words)\n",
    "demo_search(model1, doc_vectors)"
   ]
  },
  {
   "cell_type": "code",
   "execution_count": 60,
   "metadata": {},
   "outputs": [],
   "source": [
    "def run_vector(title, model, queries, docs):\n",
    "    accuracy = 0.0\n",
    "    accuracy10 = 0.0\n",
    "    rr = 0.0\n",
    "    processed = 0\n",
    "    q = []\n",
    "    with tqdm(queries) as progress:\n",
    "        for query, answer in progress:\n",
    "            result = search_vector(model, query, docs)[:10]\n",
    "            \n",
    "            rank = None\n",
    "            for position, (article_name, score) in enumerate(result):\n",
    "                if article_name == answer:\n",
    "                    rank = position + 1\n",
    "                    if position == 0:\n",
    "                        q.append((query, article_name))\n",
    "                    break\n",
    "                \n",
    "            if rank is not None:\n",
    "                accuracy += (rank == 1)\n",
    "                accuracy10 += (rank <= 10)\n",
    "                rr += 1.0 / rank\n",
    "                \n",
    "            processed += 1\n",
    "            progress.set_description(f'Acc: {accuracy/processed:0.2f}, Acc10: {accuracy10/processed:0.2f}, RR: {rr/processed:0.2f}')\n",
    "    print(f'{title}\\n  Accuracy: {accuracy/processed:0.2f}\\n  Accuracy10: {accuracy10/processed:0.2f}\\n  RR: {rr/processed:0.2f}')\n",
    "    return q"
   ]
  },
  {
   "cell_type": "code",
   "execution_count": 61,
   "metadata": {},
   "outputs": [],
   "source": [
    "def print_better(q):\n",
    "    for query, title in q:\n",
    "        result = search(query, collection_data, {})\n",
    "        if result[0][0] != title:\n",
    "            print(f'word2vec is better!\\t\\nquery: {query}\\t\\nbm25: {result[0]}\\t\\nw2v: {title}\\n')"
   ]
  },
  {
   "cell_type": "code",
   "execution_count": 77,
   "metadata": {},
   "outputs": [
    {
     "name": "stderr",
     "output_type": "stream",
     "text": [
      "Acc: 0.02, Acc10: 0.06, RR: 0.03: 100%|██████████| 200/200 [10:47<00:00,  3.24s/it]"
     ]
    },
    {
     "name": "stdout",
     "output_type": "stream",
     "text": [
      "Word2Vec\n",
      "  Accuracy: 0.02\n",
      "  Accuracy10: 0.06\n",
      "  RR: 0.03\n"
     ]
    },
    {
     "name": "stderr",
     "output_type": "stream",
     "text": [
      "\n"
     ]
    }
   ],
   "source": [
    "q = run_vector(\"Word2Vec\", model1, queries, doc_vectors)"
   ]
  },
  {
   "cell_type": "markdown",
   "metadata": {},
   "source": [
    "ой ну результаты что-то совсем так себе :("
   ]
  },
  {
   "cell_type": "code",
   "execution_count": 79,
   "metadata": {},
   "outputs": [
    {
     "name": "stdout",
     "output_type": "stream",
     "text": [
      "word2vec is better!\t\n",
      "query: what types of diseases can be passed from animals to humans\t\n",
      "bm25: ('Salmonella', 22.085737138680017)\t\n",
      "w2v: Zoonosis\n",
      "\n",
      "word2vec is better!\t\n",
      "query: which diseases do microorganisms cause in plants and animals\t\n",
      "bm25: ('Microorganism', 21.19679855035709)\t\n",
      "w2v: Plant_pathology\n",
      "\n",
      "word2vec is better!\t\n",
      "query: who simplified the naming of living things by giving each species a two-part scientific name\t\n",
      "bm25: ('Type_species', 23.59572256903776)\t\n",
      "w2v: Binomial_nomenclature\n",
      "\n"
     ]
    }
   ],
   "source": [
    "print_better(q)"
   ]
  },
  {
   "cell_type": "markdown",
   "metadata": {},
   "source": [
    "итого, word2vec справился лучше бм25 в двух запросах (на первой позиции нашел релевантный документ)"
   ]
  },
  {
   "cell_type": "markdown",
   "metadata": {},
   "source": [
    "Теперь попробуем использовать только заголовок и примерно первое предложение статей: "
   ]
  },
  {
   "cell_type": "code",
   "execution_count": 62,
   "metadata": {},
   "outputs": [
    {
     "name": "stdout",
     "output_type": "stream",
     "text": [
      "[coronovirus in belarus]\n",
      "   0.85  Character\n",
      "   0.85  Civil_parishes_in_Cornwall\n",
      "   0.82  Frankfurt_Airport\n",
      "   0.82  PCP\n",
      "   0.81  Berlin_Zoological_Garden\n",
      "\n",
      "\n",
      "[who won junior eurovision in 2005]\n",
      "   0.88  Michael_Phelps\n",
      "   0.86  Lindsey_Vonn\n",
      "   0.85  Kurt_Browning\n",
      "   0.85  Shawn_Marion\n",
      "   0.85  Ivan_Boldirev\n",
      "\n",
      "\n",
      "[science about full-text search]\n",
      "   0.78  Science_fiction_movie\n",
      "   0.77  Science\n",
      "   0.76  Philosophy_of_science\n",
      "   0.75  Credit_history\n",
      "   0.74  Theoretical_computer_science\n",
      "\n",
      "\n"
     ]
    }
   ],
   "source": [
    "doc_vectors_cut = prepare_collection_vectors(model1, bags_of_words, use_cut_data=True)\n",
    "demo_search(model1, doc_vectors_cut)"
   ]
  },
  {
   "cell_type": "code",
   "execution_count": 80,
   "metadata": {},
   "outputs": [
    {
     "name": "stderr",
     "output_type": "stream",
     "text": [
      "Acc: 0.01, Acc10: 0.05, RR: 0.02: 100%|██████████| 200/200 [14:04<00:00,  4.22s/it]"
     ]
    },
    {
     "name": "stdout",
     "output_type": "stream",
     "text": [
      "Word2Vec cut docs\n",
      "  Accuracy: 0.01\n",
      "  Accuracy10: 0.05\n",
      "  RR: 0.02\n"
     ]
    },
    {
     "name": "stderr",
     "output_type": "stream",
     "text": [
      "\n"
     ]
    }
   ],
   "source": [
    "q_cut = run_vector(\"Word2Vec cut docs\", model1, queries, doc_vectors_cut)"
   ]
  },
  {
   "cell_type": "markdown",
   "metadata": {},
   "source": [
    "Штош, результаты стали еще хуже :("
   ]
  },
  {
   "cell_type": "code",
   "execution_count": 82,
   "metadata": {},
   "outputs": [
    {
     "name": "stdout",
     "output_type": "stream",
     "text": [
      "word2vec is better!\t\n",
      "query: what are the names of all the european countries\t\n",
      "bm25: ('Eastern_European_Time', 9.667030982155106)\t\n",
      "w2v: List_of_European_countries_by_area\n",
      "\n"
     ]
    }
   ],
   "source": [
    "print_better(q_cut)"
   ]
  },
  {
   "cell_type": "markdown",
   "metadata": {},
   "source": [
    "Теперь попробуем предобученную модель:"
   ]
  },
  {
   "cell_type": "code",
   "execution_count": 18,
   "metadata": {},
   "outputs": [],
   "source": [
    "from gensim.models import KeyedVectors\n",
    "import codecs\n",
    "\n",
    "w2v_file = codecs.open(\"/Users/danielmuraveyko/Downloads/glove.6B/glove.6B.100d.txt\", encoding='utf-8')\n",
    "model_pre = KeyedVectors.load_word2vec_format(w2v_file, binary=False)\n",
    "\n",
    "doc_vectors_pre = prepare_collection_vectors(model_pre, bags_of_words, use_cut_data=True)\n",
    "demo_search(model_pre, doc_vectors_pre)"
   ]
  },
  {
   "cell_type": "code",
   "execution_count": 56,
   "metadata": {},
   "outputs": [
    {
     "name": "stderr",
     "output_type": "stream",
     "text": [
      "Acc: 0.10, Acc10: 0.20, RR: 0.12: 100%|██████████| 200/200 [02:56<00:00,  1.13it/s]"
     ]
    },
    {
     "name": "stdout",
     "output_type": "stream",
     "text": [
      "Word2Vec Pre-Trained\n",
      "  Accuracy: 0.10\n",
      "  Accuracy10: 0.20\n",
      "  RR: 0.12\n"
     ]
    },
    {
     "name": "stderr",
     "output_type": "stream",
     "text": [
      "\n"
     ]
    }
   ],
   "source": [
    "q = run_vector(\"Word2Vec Pre-Trained\", model_pre, queries, doc_vectors)"
   ]
  },
  {
   "cell_type": "code",
   "execution_count": 62,
   "metadata": {},
   "outputs": [
    {
     "name": "stdout",
     "output_type": "stream",
     "text": [
      "word2vec is better!\t\n",
      "query: what are the 3 types of plastids in plant cells\t\n",
      "bm25: ('Plasmodesma', 16.432503870122957)\t\n",
      "w2v: Plastid\n",
      "\n",
      "word2vec is better!\t\n",
      "query: what are the 3 largest countries in europe\t\n",
      "bm25: ('German_Americans', 11.767606775149444)\t\n",
      "w2v: List_of_European_countries_by_area\n",
      "\n",
      "word2vec is better!\t\n",
      "query: which of the following contain members that have chloroplasts in their cells\t\n",
      "bm25: ('Red_algae', 19.904024203155757)\t\n",
      "w2v: Chloroplast\n",
      "\n",
      "word2vec is better!\t\n",
      "query: who was the first scientist to suggest that different elements contain different types of atoms\t\n",
      "bm25: ('Chemical_compound', 18.338314880238215)\t\n",
      "w2v: Chemical_element\n",
      "\n",
      "word2vec is better!\t\n",
      "query: who discovered the 8 different types of fingerprints\t\n",
      "bm25: ('Armed_Forces_DNA_Identification_Laboratory', 10.174559983622885)\t\n",
      "w2v: Fingerprint\n",
      "\n",
      "word2vec is better!\t\n",
      "query: what are the different types of molecular movements found in living organisms\t\n",
      "bm25: ('Biosemiotics', 14.888146606308936)\t\n",
      "w2v: Cell\n",
      "\n",
      "word2vec is better!\t\n",
      "query: describe how whole ancient living things can be preserved as fossils\t\n",
      "bm25: ('Paleontology', 22.383632508882073)\t\n",
      "w2v: Fossil\n",
      "\n",
      "word2vec is better!\t\n",
      "query: besides arthropods what other major groups make up the invertebrates\t\n",
      "bm25: ('Priapulida', 24.936081391012294)\t\n",
      "w2v: Arthropod\n",
      "\n",
      "word2vec is better!\t\n",
      "query: what types of diseases can be passed from animals to humans\t\n",
      "bm25: ('Salmonella', 22.085737138680017)\t\n",
      "w2v: Zoonosis\n",
      "\n",
      "word2vec is better!\t\n",
      "query: which group of organisms some of which were preserved as fossils\t\n",
      "bm25: ('Santana_Formation', 19.45243449405789)\t\n",
      "w2v: Fossil\n",
      "\n",
      "word2vec is better!\t\n",
      "query: which diseases do microorganisms cause in plants and animals\t\n",
      "bm25: ('Microorganism', 21.19679855035709)\t\n",
      "w2v: Plant_pathology\n",
      "\n",
      "word2vec is better!\t\n",
      "query: how many forms of carbohydrates are found in plants\t\n",
      "bm25: ('Palisade_cell', 13.33225945154429)\t\n",
      "w2v: Carbohydrate\n",
      "\n",
      "word2vec is better!\t\n",
      "query: what are some structures that are only found in animal cells\t\n",
      "bm25: ('Plasmodesma', 18.327928913304874)\t\n",
      "w2v: Cell\n",
      "\n",
      "word2vec is better!\t\n",
      "query: who simplified the naming of living things by giving each species a two-part scientific name\t\n",
      "bm25: ('Type_species', 23.59572256903776)\t\n",
      "w2v: Binomial_nomenclature\n",
      "\n"
     ]
    }
   ],
   "source": [
    "print_better(q)"
   ]
  }
 ],
 "metadata": {
  "kernelspec": {
   "display_name": "Python 3",
   "language": "python",
   "name": "python3"
  },
  "language_info": {
   "codemirror_mode": {
    "name": "ipython",
    "version": 3
   },
   "file_extension": ".py",
   "mimetype": "text/x-python",
   "name": "python",
   "nbconvert_exporter": "python",
   "pygments_lexer": "ipython3",
   "version": "3.8.6"
  }
 },
 "nbformat": 4,
 "nbformat_minor": 4
}
